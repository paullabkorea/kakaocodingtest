{
 "cells": [
  {
   "cell_type": "markdown",
   "metadata": {},
   "source": [
    "* 너무 어려운 문제는 제외하였습니다.\n",
    "* 문제 풀이는 워밍업, 18년, 19년, 20년, 21년 입사문제 풀이 순으로 진행합니다."
   ]
  },
  {
   "cell_type": "markdown",
   "metadata": {},
   "source": [
    "## 코테 전 준비사항\n",
    "\n",
    "1. 플렛폼에 익숙해지자! (프로그래머스, 구름EDU 등) - 사용 가능 라이브러리 미리 확인 등\n",
    "2. 언어 선택(속도 : C++, 풀이 : Python)\n",
    "3. 코드 스니펫(트리, 검색, 최단경로(예를 들어 다익스트라) 등), Cheat sheet, A4 용지 준비\n",
    "4. 유용한 라이브러리 정리! (collections_유튜브, itertools(순열 조합)_효율적인_루핑_만들기 등등)\n",
    "5. 기억해두자! 예외처리!"
   ]
  },
  {
   "cell_type": "markdown",
   "metadata": {},
   "source": [
    "## 1번 워밍업 문제(google)\n",
    "\n",
    "1부터 10,000까지 8이라는 숫자가 총 몇번 나오는가?\n",
    "\n",
    "8이 포함되어 있는 숫자의 갯수를 카운팅 하는 것이 아니라 8이라는 숫자를 모두 카운팅 해야 한다.\n",
    "(※ 예를들어 8808은 3, 8888은 4로 카운팅 해야 함)\n",
    "\n",
    "문제 링크 : https://codingdojang.com/scode/393"
   ]
  },
  {
   "cell_type": "code",
   "execution_count": null,
   "metadata": {},
   "outputs": [],
   "source": [
    "[0, 0, 0, 0]\n",
    "[9, 9, 9, 9]"
   ]
  },
  {
   "cell_type": "code",
   "execution_count": 4,
   "metadata": {},
   "outputs": [
    {
     "name": "stdout",
     "output_type": "stream",
     "text": [
      "17.3 µs ± 286 ns per loop (mean ± std. dev. of 7 runs, 100000 loops each)\n"
     ]
    }
   ],
   "source": [
    "%%timeit\n",
    "\n",
    "str(list(range(1, 101)))\n",
    "str(list(range(1, 101))).count('8')"
   ]
  },
  {
   "cell_type": "code",
   "execution_count": 5,
   "metadata": {},
   "outputs": [
    {
     "data": {
      "text/plain": [
       "4000"
      ]
     },
     "execution_count": 5,
     "metadata": {},
     "output_type": "execute_result"
    }
   ],
   "source": [
    "count = 0\n",
    "for i in range(10001):\n",
    "    if '8' in str(i):\n",
    "        count += str(i).count('8')\n",
    "\n",
    "count        "
   ]
  },
  {
   "cell_type": "code",
   "execution_count": 6,
   "metadata": {},
   "outputs": [
    {
     "data": {
      "text/plain": [
       "4000"
      ]
     },
     "execution_count": 6,
     "metadata": {},
     "output_type": "execute_result"
    }
   ],
   "source": [
    "str(list(range(1, 10001))).count('8')"
   ]
  },
  {
   "cell_type": "code",
   "execution_count": 7,
   "metadata": {},
   "outputs": [
    {
     "data": {
      "text/plain": [
       "4000"
      ]
     },
     "execution_count": 7,
     "metadata": {},
     "output_type": "execute_result"
    }
   ],
   "source": [
    "str([i for i in range(10001)]).count('8')"
   ]
  },
  {
   "cell_type": "markdown",
   "metadata": {},
   "source": [
    "## 2번 워밍업 문제(daum)\n",
    "\n",
    "1차원의 점들이 주어졌을 때, 그 중 가장 거리가 짧은 것의 쌍을 출력하는 함수를 작성하시오. (단 점들의 배열은 모두 정렬되어있다고 가정한다.)\n",
    "\n",
    "예를들어 S = [1, 3, 4, 8, 13, 17, 20] 이 주어졌다면, 결과값은 (3, 4)가 될 것이다.\n",
    "\n",
    "문제링크 : https://codingdojang.com/scode/408"
   ]
  },
  {
   "cell_type": "code",
   "execution_count": 8,
   "metadata": {},
   "outputs": [
    {
     "data": {
      "text/plain": [
       "20"
      ]
     },
     "execution_count": 8,
     "metadata": {},
     "output_type": "execute_result"
    }
   ],
   "source": [
    "s = [1, 3, 4, 8, 13, 17, 20]\n",
    "m = max(s)\n",
    "m"
   ]
  },
  {
   "cell_type": "code",
   "execution_count": 10,
   "metadata": {},
   "outputs": [
    {
     "data": {
      "text/plain": [
       "(3, 4)"
      ]
     },
     "execution_count": 10,
     "metadata": {},
     "output_type": "execute_result"
    }
   ],
   "source": [
    "s = [1, 3, 4, 8, 13, 17, 20]\n",
    "m = max(s)\n",
    "index = 0\n",
    "for i in range(len(s) - 1):\n",
    "    if m > s[i+1] - s[i]:\n",
    "        index = i\n",
    "        m = s[i+1] - s[i]\n",
    "        \n",
    "s[index], s[index+1]"
   ]
  },
  {
   "cell_type": "code",
   "execution_count": 14,
   "metadata": {},
   "outputs": [
    {
     "data": {
      "text/plain": [
       "[(1, 3), (3, 4), (4, 8), (8, 13), (13, 17), (17, 20)]"
      ]
     },
     "execution_count": 14,
     "metadata": {},
     "output_type": "execute_result"
    }
   ],
   "source": [
    "s = [1, 3, 4, 8, 13, 17, 20]\n",
    "ss = [3, 4, 8, 13, 17, 20]\n",
    "\n",
    "list(zip(s, ss))"
   ]
  },
  {
   "cell_type": "code",
   "execution_count": 19,
   "metadata": {},
   "outputs": [
    {
     "data": {
      "text/plain": [
       "(3, 4)"
      ]
     },
     "execution_count": 19,
     "metadata": {},
     "output_type": "execute_result"
    }
   ],
   "source": [
    "s = [1, 3, 4, 8, 13, 17, 20]\n",
    "ss = [3, 4, 8, 13, 17, 20]\n",
    "\n",
    "sorted(list(zip(s, ss)), key=lambda i: i[1]-i[0])[0]"
   ]
  },
  {
   "cell_type": "code",
   "execution_count": 20,
   "metadata": {},
   "outputs": [
    {
     "data": {
      "text/plain": [
       "[(3, 4), (1, 3), (17, 20), (4, 8), (13, 17), (8, 13)]"
      ]
     },
     "execution_count": 20,
     "metadata": {},
     "output_type": "execute_result"
    }
   ],
   "source": [
    "def 두수의차(i):\n",
    "    return i[1] - i[0]\n",
    "\n",
    "sorted(list(zip(s, ss)), key=두수의차)"
   ]
  },
  {
   "cell_type": "markdown",
   "metadata": {},
   "source": [
    "## 3번 카카오 2018 공채 문제 1번\n",
    "\n",
    "* 문제는 한 해 전에 공개됩니다. 예를 들어 2020 공채라면 19년에 시험을 보기 때문입니다.\n",
    "* 링크 : https://tech.kakao.com/2017/09/27/kakao-blind-recruitment-round-1/"
   ]
  },
  {
   "cell_type": "code",
   "execution_count": 21,
   "metadata": {},
   "outputs": [
    {
     "data": {
      "text/plain": [
       "'0b1001'"
      ]
     },
     "execution_count": 21,
     "metadata": {},
     "output_type": "execute_result"
    }
   ],
   "source": [
    "bin(9)"
   ]
  },
  {
   "cell_type": "code",
   "execution_count": 22,
   "metadata": {},
   "outputs": [
    {
     "data": {
      "text/plain": [
       "'0b11110'"
      ]
     },
     "execution_count": 22,
     "metadata": {},
     "output_type": "execute_result"
    }
   ],
   "source": [
    "bin(30)"
   ]
  },
  {
   "cell_type": "code",
   "execution_count": null,
   "metadata": {},
   "outputs": [],
   "source": [
    "#  1001\n",
    "# 11110\n",
    "# -----\n",
    "# 11111"
   ]
  },
  {
   "cell_type": "code",
   "execution_count": 26,
   "metadata": {},
   "outputs": [
    {
     "data": {
      "text/plain": [
       "'#####'"
      ]
     },
     "execution_count": 26,
     "metadata": {},
     "output_type": "execute_result"
    }
   ],
   "source": [
    "bin(9 | 30)[2:].replace('1', '#').replace('0', ' ')"
   ]
  },
  {
   "cell_type": "code",
   "execution_count": 27,
   "metadata": {},
   "outputs": [
    {
     "name": "stdout",
     "output_type": "stream",
     "text": [
      "(9, 30)\n",
      "(20, 1)\n",
      "(28, 21)\n",
      "(18, 17)\n",
      "(11, 28)\n"
     ]
    }
   ],
   "source": [
    "arr1 = [9, 20, 28, 18, 11]\n",
    "arr2 = [30, 1, 21, 17, 28]\n",
    "n = 5\n",
    "\n",
    "for i in zip(arr1, arr2):\n",
    "    print(i)"
   ]
  },
  {
   "cell_type": "code",
   "execution_count": 28,
   "metadata": {},
   "outputs": [
    {
     "name": "stdout",
     "output_type": "stream",
     "text": [
      "9 30\n",
      "20 1\n",
      "28 21\n",
      "18 17\n",
      "11 28\n"
     ]
    }
   ],
   "source": [
    "for i, j in zip(arr1, arr2):\n",
    "    print(i, j)"
   ]
  },
  {
   "cell_type": "code",
   "execution_count": 29,
   "metadata": {},
   "outputs": [
    {
     "name": "stdout",
     "output_type": "stream",
     "text": [
      "#####\n",
      "# # #\n",
      "### #\n",
      "#  ##\n",
      "#####\n"
     ]
    }
   ],
   "source": [
    "for i, j in zip(arr1, arr2):\n",
    "    print(bin(i | j)[2:].replace('1', '#').replace('0', ' '))"
   ]
  },
  {
   "cell_type": "code",
   "execution_count": null,
   "metadata": {},
   "outputs": [],
   "source": [
    "#  11\n",
    "# 101\n",
    "# ---\n",
    "# 111"
   ]
  },
  {
   "cell_type": "code",
   "execution_count": 30,
   "metadata": {
    "scrolled": true
   },
   "outputs": [
    {
     "name": "stdout",
     "output_type": "stream",
     "text": [
      "###\n",
      "# # #\n",
      "### #\n",
      "#  ##\n",
      "#####\n"
     ]
    }
   ],
   "source": [
    "arr1 = [3, 20, 28, 18, 11]\n",
    "arr2 = [5, 1, 21, 17, 28]\n",
    "\n",
    "for i, j in zip(arr1, arr2):\n",
    "    print(bin(i | j)[2:].replace('1', '#').replace('0', ' '))"
   ]
  },
  {
   "cell_type": "code",
   "execution_count": 32,
   "metadata": {},
   "outputs": [
    {
     "name": "stdout",
     "output_type": "stream",
     "text": [
      "0000000111\n",
      "0000010101\n",
      "0000011101\n",
      "0000010011\n",
      "0000011111\n"
     ]
    }
   ],
   "source": [
    "arr1 = [3, 20, 28, 18, 11]\n",
    "arr2 = [5, 1, 21, 17, 28]\n",
    "n = 5\n",
    "\n",
    "for i, j in zip(arr1, arr2):\n",
    "    print(bin(i | j)[2:].zfill(10))"
   ]
  },
  {
   "cell_type": "code",
   "execution_count": 33,
   "metadata": {
    "scrolled": true
   },
   "outputs": [
    {
     "name": "stdout",
     "output_type": "stream",
     "text": [
      "  ###\n",
      "# # #\n",
      "### #\n",
      "#  ##\n",
      "#####\n"
     ]
    }
   ],
   "source": [
    "arr1 = [3, 20, 28, 18, 11]\n",
    "arr2 = [5, 1, 21, 17, 28]\n",
    "n = 5\n",
    "\n",
    "for i, j in zip(arr1, arr2):\n",
    "    print(bin(i | j)[2:].zfill(n).replace('1', '#').replace('0', ' '))"
   ]
  },
  {
   "cell_type": "code",
   "execution_count": 34,
   "metadata": {},
   "outputs": [
    {
     "name": "stdout",
     "output_type": "stream",
     "text": [
      "['#####', '# # #', '### #', '#  ##', '#####']\n",
      "['#####', '   ##', '### #', '#  ##', '#####']\n",
      "['######', '###  #', '##  ##', ' #### ', ' #####', '### # ']\n"
     ]
    }
   ],
   "source": [
    "def solution(n, arr1, arr2):\n",
    "    answer = []\n",
    "    for i, j in zip(arr1, arr2):\n",
    "        answer.append(bin(i | j)[2:].zfill(n).replace('1', '#').replace('0', ' '))\n",
    "    return answer\n",
    "\n",
    "testcase = [(5, [9, 20, 28, 18, 11], [30, 1, 21, 17, 28]), \n",
    "            (5, [9, 3, 28, 18, 11], [30, 1, 21, 17, 28]),\n",
    "            (6, [46, 33, 33 ,22, 31, 50], [27 ,56, 19, 14, 14, 10])]\n",
    "\n",
    "for i, j, k in testcase:\n",
    "    print(solution(i, j, k))"
   ]
  },
  {
   "cell_type": "markdown",
   "metadata": {},
   "source": [
    "## 3번 2018 카카오 입사문제 2번"
   ]
  },
  {
   "cell_type": "code",
   "execution_count": null,
   "metadata": {},
   "outputs": [],
   "source": [
    "def solution(dartResult):\n",
    "    점수 = []\n",
    "    for i in dartResult:\n",
    "        if i == 'S':\n",
    "            pass\n",
    "        if i == 'D':\n",
    "            pass\n",
    "        if i == 'T':\n",
    "            pass\n",
    "        if i == '*':\n",
    "            pass\n",
    "        if i == '#':\n",
    "            pass\n",
    "        else:\n",
    "            pass"
   ]
  },
  {
   "cell_type": "code",
   "execution_count": 62,
   "metadata": {
    "scrolled": true
   },
   "outputs": [
    {
     "name": "stdout",
     "output_type": "stream",
     "text": [
      "3\n"
     ]
    }
   ],
   "source": [
    "def solution(dartResult):\n",
    "    answer = []\n",
    "    for num, i in enumerate(dartResult, 1):\n",
    "        if i == 'S':\n",
    "            answer[-1] **= 1\n",
    "        elif i == 'D':\n",
    "            answer[-1] **= 2\n",
    "        elif i == 'T':\n",
    "            answer[-1] **= 3\n",
    "        elif i == '*':\n",
    "            answer[-1] *= 2\n",
    "            if len(answer) == 2:\n",
    "                answer[-2] *= 2\n",
    "        elif i == '#':\n",
    "            answer[-1] *= -1\n",
    "        else:\n",
    "            if dartResult[num-1:num+1] == '10':\n",
    "                answer.append(10)\n",
    "            elif dartResult[num-2:num] != '10':\n",
    "                answer.append(int(i))\n",
    "        \n",
    "    return sum(answer)\n",
    "            \n",
    "print(solution('1D2S0T'))"
   ]
  },
  {
   "cell_type": "code",
   "execution_count": 64,
   "metadata": {},
   "outputs": [
    {
     "data": {
      "text/plain": [
       "[('1', 'D', ''), ('2', 'S', '#'), ('10', 'S', '')]"
      ]
     },
     "execution_count": 64,
     "metadata": {},
     "output_type": "execute_result"
    }
   ],
   "source": [
    "import re\n",
    "\n",
    "testcase = ['1S2D*3T', '1D2S#10S']\n",
    "패턴 = re.compile(r'([0-9]|10)([SDT])([\\*\\#]?)')\n",
    "패턴.findall(testcase[1])"
   ]
  },
  {
   "cell_type": "code",
   "execution_count": 69,
   "metadata": {},
   "outputs": [
    {
     "name": "stdout",
     "output_type": "stream",
     "text": [
      "1 S \n",
      "2 D *\n",
      "3 T \n",
      "37\n"
     ]
    }
   ],
   "source": [
    "import re\n",
    "\n",
    "def solution(dartResult):\n",
    "    패턴 = re.compile(r'([0-9]|10)([SDT])([\\*\\#]?)')\n",
    "    answer = []\n",
    "    계산식 = {\n",
    "        'S':lambda 값:값, \n",
    "        'D':lambda 값:값**2, \n",
    "        'T':lambda 값:값**3\n",
    "    }\n",
    "    for 숫자, 승수, 상 in 패턴.findall(dartResult):\n",
    "        print(숫자, 승수, 상)\n",
    "        if 승수 == 'S':\n",
    "            점수 = 계산식['S'](int(숫자))\n",
    "        elif 승수 == 'D':\n",
    "            점수 = 계산식['D'](int(숫자))\n",
    "        elif 승수 == 'T':\n",
    "            점수 = 계산식['T'](int(숫자))\n",
    "        if 상 == '*':\n",
    "            점수 *= 2\n",
    "            if answer:\n",
    "                answer[-1] *= 2\n",
    "        elif 상 == '#':\n",
    "            점수 *= -1\n",
    "        answer.append(점수)\n",
    "        \n",
    "    return sum(answer)\n",
    "            \n",
    "print(solution('1S2D*3T'))"
   ]
  },
  {
   "cell_type": "markdown",
   "metadata": {},
   "source": [
    "## 5번 카카오 2018 공채 문제 3번"
   ]
  },
  {
   "cell_type": "code",
   "execution_count": 70,
   "metadata": {},
   "outputs": [],
   "source": [
    "도시이름 = ['Jeju', 'Pangyo', 'Seoul', 'NewYork', 'LA', 'Jeju', 'Pangyo', 'Seoul', 'NewYork', 'LA']"
   ]
  },
  {
   "cell_type": "code",
   "execution_count": null,
   "metadata": {},
   "outputs": [],
   "source": [
    "['Jeju']\n",
    "['Jeju', 'Pangyo', 'Seoul']\n",
    "['Pangyo', 'Seoul', 'NewYork']\n",
    "['Seoul', 'NewYork', 'LA'] #만약 이 다음에 NewYork이 온다면?\n",
    "['Seoul', 'LA', 'NewYork'] #만약 이 다음에 NewYork이 온다면?\n",
    "['Seoul', 'LA', 'NewYork']"
   ]
  },
  {
   "cell_type": "code",
   "execution_count": 71,
   "metadata": {},
   "outputs": [
    {
     "data": {
      "text/plain": [
       "deque([10, 20, 30, 40])"
      ]
     },
     "execution_count": 71,
     "metadata": {},
     "output_type": "execute_result"
    }
   ],
   "source": [
    "from collections import deque\n",
    "\n",
    "l = [10, 20, 30, 40]\n",
    "d = deque(l)\n",
    "d"
   ]
  },
  {
   "cell_type": "code",
   "execution_count": 72,
   "metadata": {
    "scrolled": true
   },
   "outputs": [
    {
     "data": {
      "text/plain": [
       "['__add__',\n",
       " '__bool__',\n",
       " '__class__',\n",
       " '__contains__',\n",
       " '__copy__',\n",
       " '__delattr__',\n",
       " '__delitem__',\n",
       " '__dir__',\n",
       " '__doc__',\n",
       " '__eq__',\n",
       " '__format__',\n",
       " '__ge__',\n",
       " '__getattribute__',\n",
       " '__getitem__',\n",
       " '__gt__',\n",
       " '__hash__',\n",
       " '__iadd__',\n",
       " '__imul__',\n",
       " '__init__',\n",
       " '__init_subclass__',\n",
       " '__iter__',\n",
       " '__le__',\n",
       " '__len__',\n",
       " '__lt__',\n",
       " '__mul__',\n",
       " '__ne__',\n",
       " '__new__',\n",
       " '__reduce__',\n",
       " '__reduce_ex__',\n",
       " '__repr__',\n",
       " '__reversed__',\n",
       " '__rmul__',\n",
       " '__setattr__',\n",
       " '__setitem__',\n",
       " '__sizeof__',\n",
       " '__str__',\n",
       " '__subclasshook__',\n",
       " 'append',\n",
       " 'appendleft',\n",
       " 'clear',\n",
       " 'copy',\n",
       " 'count',\n",
       " 'extend',\n",
       " 'extendleft',\n",
       " 'index',\n",
       " 'insert',\n",
       " 'maxlen',\n",
       " 'pop',\n",
       " 'popleft',\n",
       " 'remove',\n",
       " 'reverse',\n",
       " 'rotate']"
      ]
     },
     "execution_count": 72,
     "metadata": {},
     "output_type": "execute_result"
    }
   ],
   "source": [
    "dir(d)"
   ]
  },
  {
   "cell_type": "code",
   "execution_count": 75,
   "metadata": {},
   "outputs": [
    {
     "data": {
      "text/plain": [
       "deque(['', '', 'hello'])"
      ]
     },
     "execution_count": 75,
     "metadata": {},
     "output_type": "execute_result"
    }
   ],
   "source": [
    "from collections import deque\n",
    "\n",
    "l = [''] * 3\n",
    "cache = deque(l, maxlen=3)\n",
    "cache.append('hello')\n",
    "cache"
   ]
  },
  {
   "cell_type": "code",
   "execution_count": 76,
   "metadata": {},
   "outputs": [
    {
     "data": {
      "text/plain": [
       "deque(['', 'hello', 'hello'])"
      ]
     },
     "execution_count": 76,
     "metadata": {},
     "output_type": "execute_result"
    }
   ],
   "source": [
    "cache.append('hello')\n",
    "cache"
   ]
  },
  {
   "cell_type": "code",
   "execution_count": 77,
   "metadata": {},
   "outputs": [
    {
     "data": {
      "text/plain": [
       "deque(['hello', 'hello', 'hello2'])"
      ]
     },
     "execution_count": 77,
     "metadata": {},
     "output_type": "execute_result"
    }
   ],
   "source": [
    "cache.append('hello2')\n",
    "cache"
   ]
  },
  {
   "cell_type": "code",
   "execution_count": 78,
   "metadata": {},
   "outputs": [
    {
     "data": {
      "text/plain": [
       "deque(['hello', 'hello2', 'hello3'])"
      ]
     },
     "execution_count": 78,
     "metadata": {},
     "output_type": "execute_result"
    }
   ],
   "source": [
    "cache.append('hello3')\n",
    "cache"
   ]
  },
  {
   "cell_type": "code",
   "execution_count": 79,
   "metadata": {},
   "outputs": [
    {
     "name": "stdout",
     "output_type": "stream",
     "text": [
      "50\n",
      "21\n"
     ]
    }
   ],
   "source": [
    "from collections import deque\n",
    "\n",
    "def solution(cacheSize, cities):\n",
    "    l = [''] * cacheSize\n",
    "    cache = deque(l, maxlen=cacheSize)\n",
    "    answer = 0 #시간\n",
    "    for city in cities:\n",
    "        city = city.lower()\n",
    "        if city in cache:\n",
    "            cache.remove(city)\n",
    "            cache.append(city)\n",
    "            answer += 1\n",
    "        else:\n",
    "            cache.append(city)\n",
    "            answer += 5\n",
    "    return answer\n",
    "\n",
    "testcase = [\n",
    "    [3, ['Jeju', 'Pangyo', 'Seoul', 'NewYork', 'LA', 'Jeju', 'Pangyo', 'Seoul', 'NewYork', 'LA']],\n",
    "    [3, ['Jeju', 'Pangyo', 'Seoul', 'Jeju', 'Pangyo', 'Seoul', 'Jeju', 'Pangyo', 'Seoul']]\n",
    "]\n",
    "\n",
    "for case in testcase:\n",
    "    print(solution(case[0], case[1]))"
   ]
  },
  {
   "cell_type": "markdown",
   "metadata": {},
   "source": [
    "## 6번 카카오 2018 공채 문제 4번"
   ]
  },
  {
   "cell_type": "code",
   "execution_count": 95,
   "metadata": {},
   "outputs": [
    {
     "name": "stdout",
     "output_type": "stream",
     "text": [
      "09:00\n",
      "09:09\n",
      "08:59\n"
     ]
    }
   ],
   "source": [
    "def solution(n, t, m, timetable):\n",
    "    timetable = sorted([int(i[:2]) * 60 + int(i[3:]) for i in timetable])\n",
    "    \n",
    "    콘의출근시간 = 540\n",
    "    셔틀버스시간 = 540\n",
    "    \n",
    "    for i in range(n):\n",
    "        for j in range(m):\n",
    "            if timetable and timetable[0] <= 셔틀버스시간:\n",
    "                콘의출근시간 = timetable.pop(0) - 1\n",
    "            else:\n",
    "                콘의출근시간 = 셔틀버스시간\n",
    "        셔틀버스시간 += t\n",
    "    \n",
    "    return f'{str(콘의출근시간//60).zfill(2)}:{str(콘의출근시간%60).zfill(2)}'\n",
    "\n",
    "testcase = [\n",
    "    (1, 1, 5, ['08:00', '08:01', '08:02', '08:03']),\n",
    "    (2, 10, 2, ['09:10', '09:09', '08:00']),\n",
    "    (1, 2, 1, ['09:00', '09:00', '09:00', '09:00'])\n",
    "]\n",
    "\n",
    "for n, t, m, timetable in testcase:\n",
    "    print(solution(n, t, m, timetable))"
   ]
  },
  {
   "cell_type": "markdown",
   "metadata": {},
   "source": [
    "## 7번 카카오 2018 공채 문제 5번"
   ]
  },
  {
   "cell_type": "code",
   "execution_count": 110,
   "metadata": {
    "scrolled": true
   },
   "outputs": [
    {
     "name": "stdout",
     "output_type": "stream",
     "text": [
      "['fr', 'ra', 'an', 'nc', 'ce'] ['fr', 're', 'en', 'nc', 'ch']\n",
      "16384.0\n",
      "['ha', 'an', 'nd', 'ds', 'sh', 'ha', 'ak', 'ke'] ['sh', 'ha', 'ak', 'ke', 'ha', 'an', 'nd', 'ds']\n",
      "65536.0\n",
      "['aa', 'aa'] ['aa', 'aa']\n",
      "65536.0\n"
     ]
    }
   ],
   "source": [
    "# 다중 집합을 허락하지 않았을 때(일반 집합으로 풀었을 때)\n",
    "import re\n",
    "\n",
    "def solution(str1, str2):\n",
    "    str1 = str1.lower()\n",
    "    str2 = str2.lower()\n",
    "    \n",
    "    str1List = []\n",
    "    str2List = []\n",
    "    \n",
    "    패턴 = re.compile(r'[a-z]{2}')\n",
    "    \n",
    "    for i in range(len(str1)-1):\n",
    "        문자열 = str1[i]+str1[i+1]\n",
    "        if 패턴.findall(문자열):\n",
    "            str1List.append(문자열)\n",
    "        \n",
    "    for i in range(len(str2)-1):\n",
    "        문자열 = str2[i]+str2[i+1]\n",
    "        if 패턴.findall(문자열):\n",
    "            str2List.append(문자열)\n",
    "        \n",
    "    print(str1List, str2List)\n",
    "    교집합 = set(str1List) & set(str2List)\n",
    "    합집합 = set(str1List) | set(str2List)\n",
    "        \n",
    "    return len(교집합) / len(합집합) * 65536\n",
    "\n",
    "\n",
    "testcase = [\n",
    "    ('FRANCE', 'french'),\n",
    "    ('handshake', 'shake hands'),\n",
    "    ('aa1+aa2', 'A++++++AAA12')\n",
    "]\n",
    "\n",
    "for str1, str2 in testcase:\n",
    "    print(solution(str1, str2))"
   ]
  },
  {
   "cell_type": "code",
   "execution_count": 115,
   "metadata": {
    "scrolled": true
   },
   "outputs": [
    {
     "name": "stdout",
     "output_type": "stream",
     "text": [
      "['fr', 'ra', 'an', 'nc', 'ce'] ['fr', 're', 'en', 'nc', 'ch']\n",
      "0\n",
      "0\n",
      "16384\n",
      "['ha', 'an', 'nd', 'ds', 'sh', 'ha', 'ak', 'ke'] ['sh', 'ha', 'ak', 'ke', 'ha', 'an', 'nd', 'ds']\n",
      "1\n",
      "1\n",
      "65536\n",
      "['aa', 'aa'] ['aa', 'aa', 'aa']\n",
      "1\n",
      "2\n",
      "43690\n"
     ]
    }
   ],
   "source": [
    "# 다중 집합으로 풀었을 때(collections counter를 사용하시면 편리하게 풀 수 있습니다.)\n",
    "import re\n",
    "\n",
    "def solution(str1, str2):\n",
    "    str1 = str1.lower()\n",
    "    str2 = str2.lower()\n",
    "    \n",
    "    str1List = []\n",
    "    str2List = []\n",
    "    \n",
    "    패턴 = re.compile(r'[a-z]{2}')\n",
    "    \n",
    "    for i in range(len(str1)-1):\n",
    "        문자열 = str1[i]+str1[i+1]\n",
    "        if 패턴.findall(문자열):\n",
    "            str1List.append(문자열)\n",
    "        \n",
    "    for i in range(len(str2)-1):\n",
    "        문자열 = str2[i]+str2[i+1]\n",
    "        if 패턴.findall(문자열):\n",
    "            str2List.append(문자열)\n",
    "        \n",
    "    print(str1List, str2List)\n",
    "    교집합 = set(str1List) & set(str2List)\n",
    "    합집합 = set(str1List) | set(str2List)\n",
    "    \n",
    "    교집합추가수 = 0\n",
    "    \n",
    "    for i in 교집합:\n",
    "        if str1List.count(i) > 1 and str2List.count(i) > 1:\n",
    "            if str1List.count(i) > str2List.count(i):\n",
    "                교집합추가수 += str2List.count(i)-1\n",
    "            else:\n",
    "                교집합추가수 += str1List.count(i)-1\n",
    "                \n",
    "    print(교집합추가수)\n",
    "    \n",
    "    합집합추가수 = 0\n",
    "                \n",
    "    for i in 합집합:\n",
    "        if str1List.count(i) > 1 and str2List.count(i) > 1:\n",
    "            if str1List.count(i) > str2List.count(i):\n",
    "                합집합추가수 += str1List.count(i)-1\n",
    "            else:\n",
    "                합집합추가수 += str2List.count(i)-1          \n",
    "                \n",
    "    print(합집합추가수)\n",
    "        \n",
    "    return int((len(교집합) + 교집합추가수) / (len(합집합) + 합집합추가수) * 65536)\n",
    "\n",
    "\n",
    "testcase = [\n",
    "    ('FRANCE', 'french'),\n",
    "    ('handshake', 'shake hands'),\n",
    "    ('aa1+aa2', 'AAAA12')\n",
    "]\n",
    "\n",
    "# 올림은 ceil, 반올림은 round\n",
    "for str1, str2 in testcase:\n",
    "    print(solution(str1, str2))"
   ]
  },
  {
   "cell_type": "code",
   "execution_count": null,
   "metadata": {},
   "outputs": [],
   "source": [
    "#예외처리 추가\n",
    "if len(str1) <= 1 and len(str2) <= 1 :\n",
    "        return 65536"
   ]
  },
  {
   "cell_type": "code",
   "execution_count": null,
   "metadata": {},
   "outputs": [],
   "source": [
    "#마지막에 추가\n",
    "    if (len(합집합) + 합집합추가수) == 0:\n",
    "        return 65536\n",
    "    if (len(교집합) + 교집합추가수) == 0:\n",
    "        return 0"
   ]
  },
  {
   "cell_type": "code",
   "execution_count": null,
   "metadata": {},
   "outputs": [],
   "source": [
    "#여기서 옵션이 or로 변경되어야 함\n",
    "for i in 합집합:\n",
    "        if str1List.count(i) > 1 or str2List.count(i) > 1:\n",
    "            if str1List.count(i) > str2List.count(i):\n",
    "                합집합추가수 += str1List.count(i)-1\n",
    "            else:\n",
    "                합집합추가수 += str2List.count(i)-1    "
   ]
  },
  {
   "cell_type": "code",
   "execution_count": 327,
   "metadata": {},
   "outputs": [
    {
     "name": "stdout",
     "output_type": "stream",
     "text": [
      "['fr', 'ra', 'an', 'nc', 'ce'] ['fr', 're', 'en', 'nc', 'ch']\n",
      "{'fr', 'nc'}\n",
      "0\n",
      "{'an', 'fr', 're', 'en', 'nc', 'ce', 'ch', 'ra'}\n",
      "0\n",
      "16384\n",
      "['ha', 'an', 'nd', 'ds', 'sh', 'ha', 'ak', 'ke'] ['sh', 'ha', 'ak', 'ke', 'ha', 'an', 'nd', 'ds']\n",
      "{'ke', 'an', 'nd', 'ak', 'ds', 'ha', 'sh'}\n",
      "0\n",
      "{'an', 'ke', 'nd', 'ak', 'ds', 'ha', 'sh'}\n",
      "3\n",
      "45875\n",
      "['aa', 'aa'] ['aa', 'aa', 'aa']\n",
      "{'aa'}\n",
      "1\n",
      "{'aa'}\n",
      "4\n",
      "26214\n",
      "[] []\n",
      "set()\n",
      "0\n",
      "set()\n",
      "0\n",
      "65536\n"
     ]
    }
   ],
   "source": [
    "# 다중 집합으로 풀었을 때(collections counter를 사용하시면 편리하게 풀 수 있습니다.)\n",
    "# 통과한 코드입니다.\n",
    "import re\n",
    "\n",
    "def solution(str1, str2):\n",
    "    #예외처리 추가\n",
    "    if len(str1) <= 1 and len(str2) <= 1 :\n",
    "            return 65536\n",
    "    str1 = str1.lower()\n",
    "    str2 = str2.lower()\n",
    "    \n",
    "    str1List = []\n",
    "    str2List = []\n",
    "    \n",
    "    패턴 = re.compile(r'[a-z]{2}')\n",
    "    \n",
    "    for i in range(len(str1)-1):\n",
    "        문자열 = str1[i]+str1[i+1]\n",
    "        if 패턴.findall(문자열):\n",
    "            str1List.append(문자열)\n",
    "        \n",
    "    for i in range(len(str2)-1):\n",
    "        문자열 = str2[i]+str2[i+1]\n",
    "        if 패턴.findall(문자열):\n",
    "            str2List.append(문자열)\n",
    "        \n",
    "    교집합 = set(str1List) & set(str2List)\n",
    "    합집합 = set(str1List) | set(str2List)\n",
    "    \n",
    "    교집합추가수 = 0\n",
    "    \n",
    "    for i in 교집합:\n",
    "        if str1List.count(i) > 1 and str2List.count(i) > 1:\n",
    "            if str1List.count(i) > str2List.count(i):\n",
    "                교집합추가수 += str2List.count(i)-1\n",
    "            else:\n",
    "                교집합추가수 += str1List.count(i)-1\n",
    "    \n",
    "    합집합추가수 = 0\n",
    "                \n",
    "    for i in 합집합:\n",
    "        if str1List.count(i) > 1 or str2List.count(i) > 1:\n",
    "            if str1List.count(i) > str2List.count(i):\n",
    "                합집합추가수 += str1List.count(i)-1\n",
    "            else:\n",
    "                합집합추가수 += str2List.count(i)-1          \n",
    "    \n",
    "    #마지막에 추가\n",
    "    if (len(합집합) + 합집합추가수) == 0:\n",
    "        return 65536\n",
    "    if (len(교집합) + 교집합추가수) == 0:\n",
    "        return 0\n",
    "        \n",
    "    return int((len(교집합) + 교집합추가수) / (len(합집합) + 합집합추가수) * 65536)\n",
    "\n",
    "\n",
    "testcase = [\n",
    "    ('FRANCE', 'french'),\n",
    "    ('handshake', 'shake hands'),\n",
    "    ('aa1+aa2', 'AAAA12')\n",
    "]\n",
    "\n",
    "# 올림은 ceil, 반올림은 round\n",
    "for str1, str2 in testcase:\n",
    "    print(solution(str1, str2))"
   ]
  },
  {
   "cell_type": "markdown",
   "metadata": {},
   "source": [
    "## 8번 카카오 2018 공채 문제 6번"
   ]
  },
  {
   "cell_type": "code",
   "execution_count": 117,
   "metadata": {
    "scrolled": false
   },
   "outputs": [
    {
     "data": {
      "text/plain": [
       "[['C', 'C', 'B', 'D', 'E'],\n",
       " ['A', 'A', 'A', 'D', 'E'],\n",
       " ['A', 'A', 'A', 'B', 'F'],\n",
       " ['C', 'C', 'B', 'B', 'F']]"
      ]
     },
     "execution_count": 117,
     "metadata": {},
     "output_type": "execute_result"
    }
   ],
   "source": [
    "[list(i) for i in ['CCBDE', 'AAADE', 'AAABF', 'CCBBF']]"
   ]
  },
  {
   "cell_type": "code",
   "execution_count": null,
   "metadata": {},
   "outputs": [],
   "source": [
    "[['_', '_', '_', 'D', 'E'],\n",
    " ['_', '_', '_', 'D', 'E'],\n",
    " ['C', 'C', 'B', 'B', 'F'],\n",
    " ['C', 'C', 'B', 'B', 'F']]"
   ]
  },
  {
   "cell_type": "code",
   "execution_count": null,
   "metadata": {},
   "outputs": [],
   "source": [
    "[['_', '_', '_', '_', 'E'],\n",
    " ['_', '_', '_', '_', 'E'],\n",
    " ['_', '_', '_', 'D', 'F'],\n",
    " ['_', '_', '_', 'D', 'F']]"
   ]
  },
  {
   "cell_type": "code",
   "execution_count": 213,
   "metadata": {
    "scrolled": true
   },
   "outputs": [
    {
     "name": "stdout",
     "output_type": "stream",
     "text": [
      "[[1, 0], [1, 1]]\n",
      "[['_' '_' '_' 'D' 'E']\n",
      " ['_' '_' '_' 'D' 'E']\n",
      " ['C' 'C' 'B' 'B' 'F']\n",
      " ['C' 'C' 'B' 'B' 'F']]\n",
      "[[2, 0], [2, 2]]\n",
      "[['_' '_' '_' '_' 'E']\n",
      " ['_' '_' '_' '_' 'E']\n",
      " ['_' '_' '_' 'D' 'F']\n",
      " ['_' '_' '_' 'D' 'F']]\n"
     ]
    },
    {
     "data": {
      "text/plain": [
       "14"
      ]
     },
     "execution_count": 213,
     "metadata": {},
     "output_type": "execute_result"
    }
   ],
   "source": [
    "import numpy as np\n",
    "\n",
    "행 = 4\n",
    "열 = 5\n",
    "\n",
    "s = [list(i) for i in ['CCBDE', 'AAADE', 'AAABF', 'CCBBF']]\n",
    "s = np.array(s)\n",
    "\n",
    "캐릭터 = ['R', 'M', 'A', 'F', 'N', 'T', 'J', 'C', 'B']\n",
    "\n",
    "#라이언(R), 무지(M), 어피치(A), 프로도(F), 네오(N), 튜브(T), 제이지(J), 콘(C)\n",
    "\n",
    "\n",
    "while True:\n",
    "    \n",
    "    지울값 = []\n",
    "\n",
    "    for i in range(행-1):\n",
    "        for j in range(열-1):\n",
    "            for k in 캐릭터:\n",
    "                if np.all(s[i:i+2, j:j+2] == k) == True:\n",
    "                    지울값.append([i, j])\n",
    "    if not 지울값:\n",
    "        break\n",
    "        \n",
    "    for i, j in 지울값:\n",
    "        s[i:i+2, j:j+2] = '_'\n",
    "        \n",
    "    print(지울값)\n",
    "    for _ in range(2):\n",
    "        for j in range(열):\n",
    "            for i in range(1, 행):\n",
    "                if s[i, j] == '_':\n",
    "                    s[i, j], s[i-1, j] = s[i-1, j], '_'\n",
    "          \n",
    "    print(s)\n",
    "    \n",
    "(s == '_').sum()"
   ]
  },
  {
   "cell_type": "code",
   "execution_count": null,
   "metadata": {},
   "outputs": [],
   "source": [
    "['TTTANT', 'RRFACC', 'RRRFCC', 'TRRRAA', 'TTMMMF', 'TMMTTJ']"
   ]
  },
  {
   "cell_type": "code",
   "execution_count": 315,
   "metadata": {
    "scrolled": true
   },
   "outputs": [
    {
     "name": "stdout",
     "output_type": "stream",
     "text": [
      "[[1, 0], [1, 1]]\n",
      "[['_' '_' '_' 'D' 'E']\n",
      " ['_' '_' '_' 'D' 'E']\n",
      " ['C' 'C' 'B' 'B' 'F']\n",
      " ['C' 'C' 'B' 'B' 'F']]\n",
      "[[2, 0], [2, 2]]\n",
      "[['_' '_' '_' '_' 'E']\n",
      " ['_' '_' '_' '_' 'E']\n",
      " ['_' '_' '_' 'D' 'F']\n",
      " ['_' '_' '_' 'D' 'F']]\n"
     ]
    },
    {
     "data": {
      "text/plain": [
       "14"
      ]
     },
     "execution_count": 315,
     "metadata": {},
     "output_type": "execute_result"
    }
   ],
   "source": [
    "import numpy as np\n",
    "\n",
    "행 = 4\n",
    "열 = 5\n",
    "\n",
    "s = [list(i) for i in [\"CCBDE\", \"AAADE\", \"AAABF\", \"CCBBF\"]]\n",
    "s = np.array(s)\n",
    "\n",
    "캐릭터 = ['R', 'M', 'A', 'F', 'N', 'T', 'J', 'C', 'B']\n",
    "\n",
    "#라이언(R), 무지(M), 어피치(A), 프로도(F), 네오(N), 튜브(T), 제이지(J), 콘(C)\n",
    "\n",
    "\n",
    "while True:\n",
    "    \n",
    "    지울값 = []\n",
    "\n",
    "    for i in range(행-1):\n",
    "        for j in range(열-1):\n",
    "            for k in 캐릭터:\n",
    "                if np.all(s[i:i+2, j:j+2] == k) == True:\n",
    "                    지울값.append([i, j])\n",
    "    if not 지울값:\n",
    "        break\n",
    "        \n",
    "    for i, j in 지울값:\n",
    "        s[i:i+2, j:j+2] = '_'\n",
    "        \n",
    "    print(지울값)\n",
    "    for _ in range(2):\n",
    "        for j in range(열):\n",
    "            for i in range(1, 행):\n",
    "                if s[i, j] == '_':\n",
    "                    s[i, j], s[i-1, j] = s[i-1, j], '_'\n",
    "          \n",
    "    print(s)\n",
    "    \n",
    "(s == '_').sum()"
   ]
  },
  {
   "cell_type": "code",
   "execution_count": 332,
   "metadata": {
    "scrolled": true
   },
   "outputs": [
    {
     "data": {
      "text/plain": [
       "['A',\n",
       " 'B',\n",
       " 'C',\n",
       " 'D',\n",
       " 'E',\n",
       " 'F',\n",
       " 'G',\n",
       " 'H',\n",
       " 'I',\n",
       " 'J',\n",
       " 'K',\n",
       " 'L',\n",
       " 'M',\n",
       " 'N',\n",
       " 'O',\n",
       " 'P',\n",
       " 'Q',\n",
       " 'R',\n",
       " 'S',\n",
       " 'T',\n",
       " 'U',\n",
       " 'V',\n",
       " 'W',\n",
       " 'X',\n",
       " 'Y',\n",
       " 'Z']"
      ]
     },
     "execution_count": 332,
     "metadata": {},
     "output_type": "execute_result"
    }
   ],
   "source": [
    "# 오류1\n",
    "캐릭터 = [chr(i) for i in range(65, 91)]\n",
    "캐릭터"
   ]
  },
  {
   "cell_type": "code",
   "execution_count": 333,
   "metadata": {},
   "outputs": [
    {
     "name": "stdout",
     "output_type": "stream",
     "text": [
      "4\n"
     ]
    }
   ],
   "source": [
    "#애러가 나는 상황\n",
    "\n",
    "import numpy as np\n",
    "\n",
    "def solution(행, 열, board):\n",
    "    s = [list(i) for i in board]\n",
    "    s = np.array(s)\n",
    "\n",
    "    캐릭터 = [chr(i) for i in range(65, 91)]\n",
    "    \n",
    "    s[1:3, 1:3] = '_'\n",
    "    \n",
    "    return (s == '_').sum()\n",
    "\n",
    "print(solution(4, 5, [\"CCBDE\", \"AAADE\", \"AAABF\", \"CCBBF\"]))"
   ]
  },
  {
   "cell_type": "code",
   "execution_count": 330,
   "metadata": {},
   "outputs": [
    {
     "name": "stdout",
     "output_type": "stream",
     "text": [
      "[[1, 0], [1, 1]]\n",
      "[['_' '_' '_' 'D' 'E']\n",
      " ['_' '_' '_' 'D' 'E']\n",
      " ['C' 'C' 'B' 'B' 'F']\n",
      " ['C' 'C' 'B' 'B' 'F']]\n",
      "[[2, 0], [2, 2]]\n",
      "[['_' '_' '_' '_' 'E']\n",
      " ['_' '_' '_' '_' 'E']\n",
      " ['_' '_' '_' 'D' 'F']\n",
      " ['_' '_' '_' 'D' 'F']]\n",
      "14\n",
      "[[1, 0], [1, 4], [2, 1]]\n",
      "[['_' '_' '_' 'A' '_' '_']\n",
      " ['_' '_' '_' 'A' '_' '_']\n",
      " ['T' '_' 'T' 'F' 'N' 'T']\n",
      " ['T' 'T' 'F' 'R' 'A' 'A']\n",
      " ['T' 'T' 'M' 'M' 'M' 'F']\n",
      " ['T' 'M' 'M' 'T' 'T' 'J']]\n",
      "[[3, 0]]\n",
      "[['_' '_' '_' 'A' '_' '_']\n",
      " ['_' '_' '_' 'A' '_' '_']\n",
      " ['_' '_' 'T' 'F' 'N' 'T']\n",
      " ['_' '_' 'F' 'R' 'A' 'A']\n",
      " ['T' '_' 'M' 'M' 'M' 'F']\n",
      " ['T' 'M' 'M' 'T' 'T' 'J']]\n",
      "15\n"
     ]
    }
   ],
   "source": [
    "#프로그래머스에서는 오류가 납니다.\n",
    "\n",
    "import numpy as np\n",
    "\n",
    "def solution(행, 열, board):\n",
    "    s = [list(i) for i in board]\n",
    "    s = np.array(s)\n",
    "\n",
    "    캐릭터 = [chr(i) for i in range(65, 91)]\n",
    "\n",
    "    #라이언(R), 무지(M), 어피치(A), 프로도(F), 네오(N), 튜브(T), 제이지(J), 콘(C)\n",
    "\n",
    "\n",
    "    while True:\n",
    "\n",
    "        지울값 = []\n",
    "\n",
    "        for i in range(행-1):\n",
    "            for j in range(열-1):\n",
    "                for k in 캐릭터:\n",
    "                    if np.all(s[i:i+2, j:j+2] == k) == True:\n",
    "                        지울값.append([i, j])\n",
    "        if not 지울값:\n",
    "            break\n",
    "\n",
    "        for i, j in 지울값:\n",
    "            s[i:i+2, j:j+2] = '_'\n",
    "\n",
    "        print(지울값)\n",
    "        for _ in range(행):\n",
    "            for j in range(열):\n",
    "                for i in range(1, 행):\n",
    "                    if s[i, j] == '_':\n",
    "                        s[i, j], s[i-1, j] = s[i-1, j], '_'\n",
    "\n",
    "        print(s)\n",
    "\n",
    "    return (s == '_').sum()\n",
    "\n",
    "print(solution(4, 5, [\"CCBDE\", \"AAADE\", \"AAABF\", \"CCBBF\"]))\n",
    "print(solution(6, 6, [\"TTTANT\", \"RRFACC\", \"RRRFCC\", \"TRRRAA\", \"TTMMMF\", \"TMMTTJ\"]))"
   ]
  },
  {
   "cell_type": "markdown",
   "metadata": {},
   "source": [
    "## 9번 카카오 2019 공채 문제 1번"
   ]
  },
  {
   "cell_type": "code",
   "execution_count": 219,
   "metadata": {},
   "outputs": [
    {
     "name": "stdout",
     "output_type": "stream",
     "text": [
      "['Prodo님이 들어왔습니다.', 'Ryan님이 들어왔습니다.', 'Prodo님이 나갔습니다.', 'Prodo님이 들어왔습니다.']\n"
     ]
    }
   ],
   "source": [
    "def solution(record):\n",
    "    answer = []\n",
    "    user = {}\n",
    "    \n",
    "    for log in record:\n",
    "        logSplit = log.split(' ')\n",
    "        if logSplit[0] == 'Enter':\n",
    "            user[logSplit[1]] = logSplit[2]\n",
    "            answer.append([logSplit[1], '님이 들어왔습니다.'])\n",
    "        elif logSplit[0] == 'Leave':\n",
    "            answer.append([logSplit[1], '님이 나갔습니다.'])\n",
    "        elif logSplit[0] == 'Change':\n",
    "            user[logSplit[1]] = logSplit[2]\n",
    "    \n",
    "    answer = [user[i[0]] + i[1] for i in answer]\n",
    "        \n",
    "    \n",
    "    return answer\n",
    "\n",
    "\n",
    "testcase = ['Enter uid1234 Muzi', \n",
    "            'Enter uid4567 Prodo',\n",
    "            'Leave uid1234',\n",
    "            'Enter uid1234 Prodo',\n",
    "            'Change uid4567 Ryan']\n",
    "\n",
    "print(solution(testcase))"
   ]
  },
  {
   "cell_type": "markdown",
   "metadata": {},
   "source": [
    "## 10번 카카오 2019 공채 문제 2번"
   ]
  },
  {
   "cell_type": "code",
   "execution_count": 231,
   "metadata": {
    "scrolled": true
   },
   "outputs": [
    {
     "name": "stdout",
     "output_type": "stream",
     "text": [
      "[3, 4, 2, 1, 5]\n"
     ]
    }
   ],
   "source": [
    "from collections import Counter\n",
    "\n",
    "def solution(스테이지수, 스테이지):\n",
    "    전체인원 = len(스테이지)\n",
    "    스테이지에_머물고_있는_사람 = Counter(스테이지)\n",
    "    \n",
    "    answer = {}\n",
    "    for i in range(1, 스테이지수+1):\n",
    "        answer[i] = 0\n",
    "        \n",
    "    for i in answer:\n",
    "        if 스테이지에_머물고_있는_사람[i] != 0 and 전체인원 != 0:\n",
    "            answer[i] = 스테이지에_머물고_있는_사람[i]/전체인원\n",
    "        else:\n",
    "            answer[i] = 0\n",
    "        전체인원 -= 스테이지에_머물고_있는_사람[i]\n",
    "    \n",
    "    return sorted(answer, key=lambda x:answer[x], reverse=True)\n",
    "\n",
    "\n",
    "n, stages = 5, [2, 1, 2, 6, 2, 4, 3, 3]\n",
    "print(solution(n, stages))"
   ]
  },
  {
   "cell_type": "code",
   "execution_count": 227,
   "metadata": {},
   "outputs": [
    {
     "data": {
      "text/plain": [
       "[[0, 1, 2], [3, 3, 3], [4, 1, 6]]"
      ]
     },
     "execution_count": 227,
     "metadata": {},
     "output_type": "execute_result"
    }
   ],
   "source": [
    "l = sorted(([0, 1, 2], [4, 1, 6], [3, 3, 3]), key=lambda x:x[0])\n",
    "l"
   ]
  },
  {
   "cell_type": "code",
   "execution_count": 228,
   "metadata": {},
   "outputs": [
    {
     "data": {
      "text/plain": [
       "[[0, 1, 2], [4, 1, 6], [3, 3, 3]]"
      ]
     },
     "execution_count": 228,
     "metadata": {},
     "output_type": "execute_result"
    }
   ],
   "source": [
    "l = sorted(([0, 1, 2], [4, 1, 6], [3, 3, 3]), key=lambda x:x[1])\n",
    "l"
   ]
  },
  {
   "cell_type": "code",
   "execution_count": 229,
   "metadata": {},
   "outputs": [
    {
     "data": {
      "text/plain": [
       "[[0, 1, 2], [3, 3, 3], [4, 1, 6]]"
      ]
     },
     "execution_count": 229,
     "metadata": {},
     "output_type": "execute_result"
    }
   ],
   "source": [
    "l = sorted(([0, 1, 2], [4, 1, 6], [3, 3, 3]), key=lambda x:x[2])\n",
    "l"
   ]
  },
  {
   "cell_type": "code",
   "execution_count": 335,
   "metadata": {},
   "outputs": [
    {
     "name": "stdout",
     "output_type": "stream",
     "text": [
      "{1: 0, 2: 0, 3: 0, 4: 0, 5: 0}\n",
      "[3, 4, 2, 1, 5]\n"
     ]
    }
   ],
   "source": [
    "from collections import Counter\n",
    "\n",
    "def solution(스테이지수, 스테이지):\n",
    "    전체인원 = len(스테이지)\n",
    "    스테이지에_머물고_있는_사람 = Counter(스테이지)\n",
    "    \n",
    "    answer = {}\n",
    "    for i in range(1, 스테이지수+1):\n",
    "        answer[i] = 0\n",
    "        \n",
    "    print(answer)\n",
    "        \n",
    "    for i in answer:\n",
    "        if 스테이지에_머물고_있는_사람[i] != 0 and 전체인원 != 0:\n",
    "            answer[i] = 스테이지에_머물고_있는_사람[i]/전체인원\n",
    "        else:\n",
    "            answer[i] = 0\n",
    "        전체인원 -= 스테이지에_머물고_있는_사람[i]\n",
    "    \n",
    "    return sorted(answer, key=lambda x:answer[x], reverse=True)\n",
    "\n",
    "\n",
    "n, stages = 5, [2, 1, 2, 6, 2, 4, 3, 3]\n",
    "print(solution(n, stages))"
   ]
  },
  {
   "cell_type": "markdown",
   "metadata": {},
   "source": [
    "## 11번 카카오 2019 공채 문제 3번"
   ]
  },
  {
   "cell_type": "code",
   "execution_count": 234,
   "metadata": {},
   "outputs": [
    {
     "data": {
      "text/plain": [
       "[('a', 'b', 'c'),\n",
       " ('a', 'b', 'd'),\n",
       " ('a', 'b', 'e'),\n",
       " ('a', 'c', 'd'),\n",
       " ('a', 'c', 'e'),\n",
       " ('a', 'd', 'e'),\n",
       " ('b', 'c', 'd'),\n",
       " ('b', 'c', 'e'),\n",
       " ('b', 'd', 'e'),\n",
       " ('c', 'd', 'e')]"
      ]
     },
     "execution_count": 234,
     "metadata": {},
     "output_type": "execute_result"
    }
   ],
   "source": [
    "from itertools import combinations\n",
    "\n",
    "list(combinations('abcde', 1))\n",
    "list(combinations('abcde', 2))\n",
    "list(combinations('abcde', 3))"
   ]
  },
  {
   "cell_type": "code",
   "execution_count": 235,
   "metadata": {},
   "outputs": [],
   "source": [
    "l = [['100','ryan','music','2'],['200','apeach','math','2'],['300','tube','computer','3'],['400','con','computer','4'],['500','muzi','music','3'],['600','apeach','music','2']]"
   ]
  },
  {
   "cell_type": "code",
   "execution_count": 236,
   "metadata": {},
   "outputs": [
    {
     "data": {
      "text/html": [
       "<div>\n",
       "<style scoped>\n",
       "    .dataframe tbody tr th:only-of-type {\n",
       "        vertical-align: middle;\n",
       "    }\n",
       "\n",
       "    .dataframe tbody tr th {\n",
       "        vertical-align: top;\n",
       "    }\n",
       "\n",
       "    .dataframe thead th {\n",
       "        text-align: right;\n",
       "    }\n",
       "</style>\n",
       "<table border=\"1\" class=\"dataframe\">\n",
       "  <thead>\n",
       "    <tr style=\"text-align: right;\">\n",
       "      <th></th>\n",
       "      <th>0</th>\n",
       "      <th>1</th>\n",
       "      <th>2</th>\n",
       "      <th>3</th>\n",
       "    </tr>\n",
       "  </thead>\n",
       "  <tbody>\n",
       "    <tr>\n",
       "      <th>0</th>\n",
       "      <td>100</td>\n",
       "      <td>ryan</td>\n",
       "      <td>music</td>\n",
       "      <td>2</td>\n",
       "    </tr>\n",
       "    <tr>\n",
       "      <th>1</th>\n",
       "      <td>200</td>\n",
       "      <td>apeach</td>\n",
       "      <td>math</td>\n",
       "      <td>2</td>\n",
       "    </tr>\n",
       "    <tr>\n",
       "      <th>2</th>\n",
       "      <td>300</td>\n",
       "      <td>tube</td>\n",
       "      <td>computer</td>\n",
       "      <td>3</td>\n",
       "    </tr>\n",
       "    <tr>\n",
       "      <th>3</th>\n",
       "      <td>400</td>\n",
       "      <td>con</td>\n",
       "      <td>computer</td>\n",
       "      <td>4</td>\n",
       "    </tr>\n",
       "    <tr>\n",
       "      <th>4</th>\n",
       "      <td>500</td>\n",
       "      <td>muzi</td>\n",
       "      <td>music</td>\n",
       "      <td>3</td>\n",
       "    </tr>\n",
       "    <tr>\n",
       "      <th>5</th>\n",
       "      <td>600</td>\n",
       "      <td>apeach</td>\n",
       "      <td>music</td>\n",
       "      <td>2</td>\n",
       "    </tr>\n",
       "  </tbody>\n",
       "</table>\n",
       "</div>"
      ],
      "text/plain": [
       "     0       1         2  3\n",
       "0  100    ryan     music  2\n",
       "1  200  apeach      math  2\n",
       "2  300    tube  computer  3\n",
       "3  400     con  computer  4\n",
       "4  500    muzi     music  3\n",
       "5  600  apeach     music  2"
      ]
     },
     "execution_count": 236,
     "metadata": {},
     "output_type": "execute_result"
    }
   ],
   "source": [
    "import pandas as pd\n",
    "\n",
    "data = pd.DataFrame(l)\n",
    "data"
   ]
  },
  {
   "cell_type": "code",
   "execution_count": 241,
   "metadata": {
    "scrolled": true
   },
   "outputs": [
    {
     "data": {
      "text/plain": [
       "False"
      ]
     },
     "execution_count": 241,
     "metadata": {},
     "output_type": "execute_result"
    }
   ],
   "source": [
    "data[1].value_counts()\n",
    "len(data[1]) == len(data[1].value_counts())"
   ]
  },
  {
   "cell_type": "code",
   "execution_count": 257,
   "metadata": {},
   "outputs": [
    {
     "data": {
      "text/html": [
       "<div>\n",
       "<style scoped>\n",
       "    .dataframe tbody tr th:only-of-type {\n",
       "        vertical-align: middle;\n",
       "    }\n",
       "\n",
       "    .dataframe tbody tr th {\n",
       "        vertical-align: top;\n",
       "    }\n",
       "\n",
       "    .dataframe thead th {\n",
       "        text-align: right;\n",
       "    }\n",
       "</style>\n",
       "<table border=\"1\" class=\"dataframe\">\n",
       "  <thead>\n",
       "    <tr style=\"text-align: right;\">\n",
       "      <th></th>\n",
       "      <th>data[0]</th>\n",
       "      <th>data[1]</th>\n",
       "      <th>data[2]</th>\n",
       "      <th>data[3]</th>\n",
       "      <th>data[0] + data[1]</th>\n",
       "      <th>data[0] + data[2]</th>\n",
       "      <th>data[0] + data[3]</th>\n",
       "      <th>data[1] + data[2]</th>\n",
       "      <th>data[1] + data[3]</th>\n",
       "      <th>data[2] + data[3]</th>\n",
       "      <th>data[0] + data[1] + data[2]</th>\n",
       "      <th>data[0] + data[1] + data[3]</th>\n",
       "      <th>data[0] + data[2] + data[3]</th>\n",
       "      <th>data[1] + data[2] + data[3]</th>\n",
       "      <th>data[0] + data[1] + data[2] + data[3]</th>\n",
       "    </tr>\n",
       "  </thead>\n",
       "  <tbody>\n",
       "    <tr>\n",
       "      <th>0</th>\n",
       "      <td>100</td>\n",
       "      <td>ryan</td>\n",
       "      <td>music</td>\n",
       "      <td>2</td>\n",
       "      <td>100ryan</td>\n",
       "      <td>100music</td>\n",
       "      <td>1002</td>\n",
       "      <td>ryanmusic</td>\n",
       "      <td>ryan2</td>\n",
       "      <td>music2</td>\n",
       "      <td>100ryanmusic</td>\n",
       "      <td>100ryan2</td>\n",
       "      <td>100music2</td>\n",
       "      <td>ryanmusic2</td>\n",
       "      <td>100ryanmusic2</td>\n",
       "    </tr>\n",
       "    <tr>\n",
       "      <th>1</th>\n",
       "      <td>200</td>\n",
       "      <td>apeach</td>\n",
       "      <td>math</td>\n",
       "      <td>2</td>\n",
       "      <td>200apeach</td>\n",
       "      <td>200math</td>\n",
       "      <td>2002</td>\n",
       "      <td>apeachmath</td>\n",
       "      <td>apeach2</td>\n",
       "      <td>math2</td>\n",
       "      <td>200apeachmath</td>\n",
       "      <td>200apeach2</td>\n",
       "      <td>200math2</td>\n",
       "      <td>apeachmath2</td>\n",
       "      <td>200apeachmath2</td>\n",
       "    </tr>\n",
       "    <tr>\n",
       "      <th>2</th>\n",
       "      <td>300</td>\n",
       "      <td>tube</td>\n",
       "      <td>computer</td>\n",
       "      <td>3</td>\n",
       "      <td>300tube</td>\n",
       "      <td>300computer</td>\n",
       "      <td>3003</td>\n",
       "      <td>tubecomputer</td>\n",
       "      <td>tube3</td>\n",
       "      <td>computer3</td>\n",
       "      <td>300tubecomputer</td>\n",
       "      <td>300tube3</td>\n",
       "      <td>300computer3</td>\n",
       "      <td>tubecomputer3</td>\n",
       "      <td>300tubecomputer3</td>\n",
       "    </tr>\n",
       "    <tr>\n",
       "      <th>3</th>\n",
       "      <td>400</td>\n",
       "      <td>con</td>\n",
       "      <td>computer</td>\n",
       "      <td>4</td>\n",
       "      <td>400con</td>\n",
       "      <td>400computer</td>\n",
       "      <td>4004</td>\n",
       "      <td>concomputer</td>\n",
       "      <td>con4</td>\n",
       "      <td>computer4</td>\n",
       "      <td>400concomputer</td>\n",
       "      <td>400con4</td>\n",
       "      <td>400computer4</td>\n",
       "      <td>concomputer4</td>\n",
       "      <td>400concomputer4</td>\n",
       "    </tr>\n",
       "    <tr>\n",
       "      <th>4</th>\n",
       "      <td>500</td>\n",
       "      <td>muzi</td>\n",
       "      <td>music</td>\n",
       "      <td>3</td>\n",
       "      <td>500muzi</td>\n",
       "      <td>500music</td>\n",
       "      <td>5003</td>\n",
       "      <td>muzimusic</td>\n",
       "      <td>muzi3</td>\n",
       "      <td>music3</td>\n",
       "      <td>500muzimusic</td>\n",
       "      <td>500muzi3</td>\n",
       "      <td>500music3</td>\n",
       "      <td>muzimusic3</td>\n",
       "      <td>500muzimusic3</td>\n",
       "    </tr>\n",
       "    <tr>\n",
       "      <th>5</th>\n",
       "      <td>600</td>\n",
       "      <td>apeach</td>\n",
       "      <td>music</td>\n",
       "      <td>2</td>\n",
       "      <td>600apeach</td>\n",
       "      <td>600music</td>\n",
       "      <td>6002</td>\n",
       "      <td>apeachmusic</td>\n",
       "      <td>apeach2</td>\n",
       "      <td>music2</td>\n",
       "      <td>600apeachmusic</td>\n",
       "      <td>600apeach2</td>\n",
       "      <td>600music2</td>\n",
       "      <td>apeachmusic2</td>\n",
       "      <td>600apeachmusic2</td>\n",
       "    </tr>\n",
       "  </tbody>\n",
       "</table>\n",
       "</div>"
      ],
      "text/plain": [
       "  data[0] data[1]   data[2] data[3] data[0] + data[1] data[0] + data[2]  \\\n",
       "0     100    ryan     music       2           100ryan          100music   \n",
       "1     200  apeach      math       2         200apeach           200math   \n",
       "2     300    tube  computer       3           300tube       300computer   \n",
       "3     400     con  computer       4            400con       400computer   \n",
       "4     500    muzi     music       3           500muzi          500music   \n",
       "5     600  apeach     music       2         600apeach          600music   \n",
       "\n",
       "  data[0] + data[3] data[1] + data[2] data[1] + data[3] data[2] + data[3]  \\\n",
       "0              1002         ryanmusic             ryan2            music2   \n",
       "1              2002        apeachmath           apeach2             math2   \n",
       "2              3003      tubecomputer             tube3         computer3   \n",
       "3              4004       concomputer              con4         computer4   \n",
       "4              5003         muzimusic             muzi3            music3   \n",
       "5              6002       apeachmusic           apeach2            music2   \n",
       "\n",
       "  data[0] + data[1] + data[2] data[0] + data[1] + data[3]  \\\n",
       "0                100ryanmusic                    100ryan2   \n",
       "1               200apeachmath                  200apeach2   \n",
       "2             300tubecomputer                    300tube3   \n",
       "3              400concomputer                     400con4   \n",
       "4                500muzimusic                    500muzi3   \n",
       "5              600apeachmusic                  600apeach2   \n",
       "\n",
       "  data[0] + data[2] + data[3] data[1] + data[2] + data[3]  \\\n",
       "0                   100music2                  ryanmusic2   \n",
       "1                    200math2                 apeachmath2   \n",
       "2                300computer3               tubecomputer3   \n",
       "3                400computer4                concomputer4   \n",
       "4                   500music3                  muzimusic3   \n",
       "5                   600music2                apeachmusic2   \n",
       "\n",
       "  data[0] + data[1] + data[2] + data[3]  \n",
       "0                         100ryanmusic2  \n",
       "1                        200apeachmath2  \n",
       "2                      300tubecomputer3  \n",
       "3                       400concomputer4  \n",
       "4                         500muzimusic3  \n",
       "5                       600apeachmusic2  "
      ]
     },
     "execution_count": 257,
     "metadata": {},
     "output_type": "execute_result"
    }
   ],
   "source": [
    "import pandas as pd\n",
    "\n",
    "l = [['100','ryan','music','2'],\n",
    "     ['200','apeach','math','2'],\n",
    "     ['300','tube','computer','3'],\n",
    "     ['400','con','computer','4'],\n",
    "     ['500','muzi','music','3'],\n",
    "     ['600','apeach','music','2']]\n",
    "\n",
    "colname = range(len(l[0]))\n",
    "\n",
    "data = pd.DataFrame(l)\n",
    "data_ = pd.DataFrame()\n",
    "\n",
    "유일성만족리스트 = []\n",
    "모든이름의조합 = []\n",
    "\n",
    "for 조합수 in range(1, len(colname)+1):\n",
    "    컬럼이름의조합 = combinations(colname, 조합수)\n",
    "    모든이름의조합.append(list(컬럼이름의조합))\n",
    "    \n",
    "for 이름조합 in 모든이름의조합:\n",
    "    for 컬럼명 in 이름조합:\n",
    "        #print(컬럼명)\n",
    "        if len(컬럼명) == 1:\n",
    "            data_[f'data[{컬럼명[0]}]'] = data[컬럼명[0]]\n",
    "        elif len(컬럼명) == 2:\n",
    "            data_[f'data[{컬럼명[0]}] + data[{컬럼명[1]}]'] = data[컬럼명[0]] + data[컬럼명[1]]\n",
    "        elif len(컬럼명) == 3:\n",
    "            data_[f'data[{컬럼명[0]}] + data[{컬럼명[1]}] + data[{컬럼명[2]}]'] = data[컬럼명[0]] + data[컬럼명[1]] + data[컬럼명[2]]\n",
    "        elif len(컬럼명) == 4:\n",
    "            data_[f'data[{컬럼명[0]}] + data[{컬럼명[1]}] + data[{컬럼명[2]}] + data[{컬럼명[3]}]'] = data[컬럼명[0]] + data[컬럼명[1]] + data[컬럼명[2]] + data[컬럼명[3]]\n",
    "        \n",
    "data_"
   ]
  },
  {
   "cell_type": "code",
   "execution_count": 258,
   "metadata": {},
   "outputs": [
    {
     "data": {
      "text/plain": [
       "Index(['data[0]', 'data[1]', 'data[2]', 'data[3]', 'data[0] + data[1]',\n",
       "       'data[0] + data[2]', 'data[0] + data[3]', 'data[1] + data[2]',\n",
       "       'data[1] + data[3]', 'data[2] + data[3]', 'data[0] + data[1] + data[2]',\n",
       "       'data[0] + data[1] + data[3]', 'data[0] + data[2] + data[3]',\n",
       "       'data[1] + data[2] + data[3]', 'data[0] + data[1] + data[2] + data[3]'],\n",
       "      dtype='object')"
      ]
     },
     "execution_count": 258,
     "metadata": {},
     "output_type": "execute_result"
    }
   ],
   "source": [
    "data_.columns"
   ]
  },
  {
   "cell_type": "code",
   "execution_count": 263,
   "metadata": {
    "scrolled": true
   },
   "outputs": [
    {
     "data": {
      "text/plain": [
       "['data[0]',\n",
       " 'data[0] + data[1]',\n",
       " 'data[0] + data[2]',\n",
       " 'data[0] + data[3]',\n",
       " 'data[1] + data[2]',\n",
       " 'data[0] + data[1] + data[2]',\n",
       " 'data[0] + data[1] + data[3]',\n",
       " 'data[0] + data[2] + data[3]',\n",
       " 'data[1] + data[2] + data[3]',\n",
       " 'data[0] + data[1] + data[2] + data[3]']"
      ]
     },
     "execution_count": 263,
     "metadata": {},
     "output_type": "execute_result"
    }
   ],
   "source": [
    "인덱스 = data_.columns\n",
    "유일성만족리스트 = []\n",
    "\n",
    "for i in 인덱스:\n",
    "    if len(data_[i]) == len(data_[i].value_counts()):\n",
    "        유일성만족리스트.append(i)\n",
    "\n",
    "유일성만족리스트"
   ]
  },
  {
   "cell_type": "code",
   "execution_count": 261,
   "metadata": {},
   "outputs": [
    {
     "name": "stdout",
     "output_type": "stream",
     "text": [
      "True\n"
     ]
    }
   ],
   "source": [
    "print('hello' in 'hello world')"
   ]
  },
  {
   "cell_type": "code",
   "execution_count": 262,
   "metadata": {},
   "outputs": [
    {
     "data": {
      "text/plain": [
       "['data[0]', '!', '!', '!', 'data[1] + data[2]', '!', '!', '!', '!', '!']"
      ]
     },
     "execution_count": 262,
     "metadata": {},
     "output_type": "execute_result"
    }
   ],
   "source": [
    "for i in range(len(유일성만족리스트)):\n",
    "    for j in range(i+1, len(유일성만족리스트)):\n",
    "        if 유일성만족리스트[i] in 유일성만족리스트[j]:\n",
    "            유일성만족리스트[j] = '!'\n",
    "            \n",
    "유일성만족리스트"
   ]
  },
  {
   "cell_type": "code",
   "execution_count": 264,
   "metadata": {},
   "outputs": [
    {
     "name": "stdout",
     "output_type": "stream",
     "text": [
      "0 1\n",
      "data[0] data[0] + data[1]\n",
      "0 2\n",
      "data[0] data[0] + data[2]\n",
      "0 3\n",
      "data[0] data[0] + data[3]\n",
      "0 4\n",
      "data[0] data[1] + data[2]\n",
      "0 5\n",
      "data[0] data[0] + data[1] + data[2]\n",
      "0 6\n",
      "data[0] data[0] + data[1] + data[3]\n",
      "0 7\n",
      "data[0] data[0] + data[2] + data[3]\n",
      "0 8\n",
      "data[0] data[1] + data[2] + data[3]\n",
      "0 9\n",
      "data[0] data[0] + data[1] + data[2] + data[3]\n",
      "1 2\n",
      "! !\n",
      "1 3\n",
      "! !\n",
      "1 4\n",
      "! data[1] + data[2]\n",
      "1 5\n",
      "! !\n",
      "1 6\n",
      "! !\n",
      "1 7\n",
      "! !\n",
      "1 8\n",
      "! data[1] + data[2] + data[3]\n",
      "1 9\n",
      "! !\n",
      "2 3\n",
      "! !\n",
      "2 4\n",
      "! data[1] + data[2]\n",
      "2 5\n",
      "! !\n",
      "2 6\n",
      "! !\n",
      "2 7\n",
      "! !\n",
      "2 8\n",
      "! data[1] + data[2] + data[3]\n",
      "2 9\n",
      "! !\n",
      "3 4\n",
      "! data[1] + data[2]\n",
      "3 5\n",
      "! !\n",
      "3 6\n",
      "! !\n",
      "3 7\n",
      "! !\n",
      "3 8\n",
      "! data[1] + data[2] + data[3]\n",
      "3 9\n",
      "! !\n",
      "4 5\n",
      "data[1] + data[2] !\n",
      "4 6\n",
      "data[1] + data[2] !\n",
      "4 7\n",
      "data[1] + data[2] !\n",
      "4 8\n",
      "data[1] + data[2] data[1] + data[2] + data[3]\n",
      "4 9\n",
      "data[1] + data[2] !\n",
      "5 6\n",
      "! !\n",
      "5 7\n",
      "! !\n",
      "5 8\n",
      "! !\n",
      "5 9\n",
      "! !\n",
      "6 7\n",
      "! !\n",
      "6 8\n",
      "! !\n",
      "6 9\n",
      "! !\n",
      "7 8\n",
      "! !\n",
      "7 9\n",
      "! !\n",
      "8 9\n",
      "! !\n"
     ]
    },
    {
     "data": {
      "text/plain": [
       "['data[0]', '!', '!', '!', 'data[1] + data[2]', '!', '!', '!', '!', '!']"
      ]
     },
     "execution_count": 264,
     "metadata": {},
     "output_type": "execute_result"
    }
   ],
   "source": [
    "for i in range(len(유일성만족리스트)):\n",
    "    for j in range(i+1, len(유일성만족리스트)):\n",
    "        print(i, j)\n",
    "        print(유일성만족리스트[i], 유일성만족리스트[j])\n",
    "        if 유일성만족리스트[i] in 유일성만족리스트[j]:\n",
    "            유일성만족리스트[j] = '!'\n",
    "            \n",
    "유일성만족리스트"
   ]
  },
  {
   "cell_type": "code",
   "execution_count": 265,
   "metadata": {},
   "outputs": [
    {
     "data": {
      "text/plain": [
       "2"
      ]
     },
     "execution_count": 265,
     "metadata": {},
     "output_type": "execute_result"
    }
   ],
   "source": [
    "len(유일성만족리스트) - 유일성만족리스트.count('!')"
   ]
  },
  {
   "cell_type": "markdown",
   "metadata": {},
   "source": [
    "### 19년 3번 문제 하나로 합친 코드"
   ]
  },
  {
   "cell_type": "code",
   "execution_count": 266,
   "metadata": {},
   "outputs": [
    {
     "data": {
      "text/plain": [
       "2"
      ]
     },
     "execution_count": 266,
     "metadata": {},
     "output_type": "execute_result"
    }
   ],
   "source": [
    "import pandas as pd\n",
    "from itertools import combinations\n",
    "\n",
    "\n",
    "l = [['100','ryan','music','2'],\n",
    "     ['200','apeach','math','2'],\n",
    "     ['300','tube','computer','3'],\n",
    "     ['400','con','computer','4'],\n",
    "     ['500','muzi','music','3'],\n",
    "     ['600','apeach','music','2']]\n",
    "\n",
    "colname = range(len(l[0]))\n",
    "\n",
    "data = pd.DataFrame(l)\n",
    "data_ = pd.DataFrame()\n",
    "\n",
    "유일성만족리스트 = []\n",
    "모든이름의조합 = []\n",
    "\n",
    "for 조합수 in range(1, len(colname)+1):\n",
    "    컬럼이름의조합 = combinations(colname, 조합수)\n",
    "    모든이름의조합.append(list(컬럼이름의조합))\n",
    "    \n",
    "for 이름조합 in 모든이름의조합:\n",
    "    for 컬럼명 in 이름조합:\n",
    "        #print(컬럼명)\n",
    "        if len(컬럼명) == 1:\n",
    "            data_[f'data[{컬럼명[0]}]'] = data[컬럼명[0]]\n",
    "        elif len(컬럼명) == 2:\n",
    "            data_[f'data[{컬럼명[0]}] + data[{컬럼명[1]}]'] = data[컬럼명[0]] + data[컬럼명[1]]\n",
    "        elif len(컬럼명) == 3:\n",
    "            data_[f'data[{컬럼명[0]}] + data[{컬럼명[1]}] + data[{컬럼명[2]}]'] = data[컬럼명[0]] + data[컬럼명[1]] + data[컬럼명[2]]\n",
    "        elif len(컬럼명) == 4:\n",
    "            data_[f'data[{컬럼명[0]}] + data[{컬럼명[1]}] + data[{컬럼명[2]}] + data[{컬럼명[3]}]'] = data[컬럼명[0]] + data[컬럼명[1]] + data[컬럼명[2]] + data[컬럼명[3]]\n",
    "        \n",
    "인덱스 = data_.columns\n",
    "\n",
    "for i in 인덱스:\n",
    "    if len(data_[i]) == len(data_[i].value_counts()):\n",
    "        유일성만족리스트.append(i)\n",
    "\n",
    "for i in range(len(유일성만족리스트)):\n",
    "    for j in range(i+1, len(유일성만족리스트)):\n",
    "        if 유일성만족리스트[i] in 유일성만족리스트[j]:\n",
    "            유일성만족리스트[j] = '!'\n",
    "            \n",
    "len(유일성만족리스트) - 유일성만족리스트.count('!')"
   ]
  },
  {
   "cell_type": "code",
   "execution_count": null,
   "metadata": {},
   "outputs": [],
   "source": [
    "## 1번 testcase 8개 모두 진행"
   ]
  },
  {
   "cell_type": "code",
   "execution_count": 391,
   "metadata": {},
   "outputs": [],
   "source": [
    "## 아래 코드로 하였을 때 18, 19, 20, 22, 25번이 문제 생김\n",
    "import pandas as pd\n",
    "from itertools import combinations\n",
    "\n",
    "def solution(l):\n",
    "\n",
    "    colname = range(len(l[0]))\n",
    "\n",
    "    data = pd.DataFrame(l)\n",
    "    data_ = pd.DataFrame()\n",
    "\n",
    "    유일성만족리스트 = []\n",
    "    모든이름의조합 = []\n",
    "\n",
    "    for 조합수 in range(1, len(colname)+1):\n",
    "        컬럼이름의조합 = combinations(colname, 조합수)\n",
    "        모든이름의조합.append(list(컬럼이름의조합))\n",
    "\n",
    "    for 이름조합 in 모든이름의조합:\n",
    "        for 컬럼명 in 이름조합:\n",
    "            #print(컬럼명)\n",
    "            if len(컬럼명) == 1:\n",
    "                data_[f'data[{컬럼명[0]}]'] = data[컬럼명[0]]\n",
    "            elif len(컬럼명) == 2:\n",
    "                data_[f'data[{컬럼명[0]}] + data[{컬럼명[1]}]'] = data[컬럼명[0]] + data[컬럼명[1]]\n",
    "            elif len(컬럼명) == 3:\n",
    "                data_[f'data[{컬럼명[0]}] + data[{컬럼명[1]}] + data[{컬럼명[2]}]'] = data[컬럼명[0]] + data[컬럼명[1]] + data[컬럼명[2]]\n",
    "            elif len(컬럼명) == 4:\n",
    "                data_[f'data[{컬럼명[0]}] + data[{컬럼명[1]}] + data[{컬럼명[2]}] + data[{컬럼명[3]}]'] = data[컬럼명[0]] + data[컬럼명[1]] + data[컬럼명[2]] + data[컬럼명[3]]\n",
    "            elif len(컬럼명) == 5:\n",
    "                data_[f'data[{컬럼명[0]}] + data[{컬럼명[1]}] + data[{컬럼명[2]}] + data[{컬럼명[3]}] + data[{컬럼명[4]}]'] = data[컬럼명[0]] + data[컬럼명[1]] + data[컬럼명[2]] + data[컬럼명[3]] + data[컬럼명[4]]\n",
    "            elif len(컬럼명) == 6:\n",
    "                data_[f'data[{컬럼명[0]}] + data[{컬럼명[1]}] + data[{컬럼명[2]}] + data[{컬럼명[3]}] + data[{컬럼명[4]}] + data[{컬럼명[5]}]'] = data[컬럼명[0]] + data[컬럼명[1]] + data[컬럼명[2]] + data[컬럼명[3]] + data[컬럼명[4]]  + data[컬럼명[5]]\n",
    "            elif len(컬럼명) == 7:\n",
    "                data_[f'data[{컬럼명[0]}] + data[{컬럼명[1]}] + data[{컬럼명[2]}] + data[{컬럼명[3]}] + data[{컬럼명[4]}] + data[{컬럼명[5]}] + data[{컬럼명[6]}]'] = data[컬럼명[0]] + data[컬럼명[1]] + data[컬럼명[2]] + data[컬럼명[3]] + data[컬럼명[4]] + data[컬럼명[5]] + data[컬럼명[6]]\n",
    "            elif len(컬럼명) == 8:\n",
    "                data_[f'data[{컬럼명[0]}] + data[{컬럼명[1]}] + data[{컬럼명[2]}] + data[{컬럼명[3]}] + data[{컬럼명[4]}] + data[{컬럼명[5]}] + data[{컬럼명[6]}] + data[{컬럼명[7]}]'] = data[컬럼명[0]] + data[컬럼명[1]] + data[컬럼명[2]] + data[컬럼명[3]] + data[컬럼명[4]] + data[컬럼명[5]] + data[컬럼명[6]] + data[컬럼명[7]]\n",
    "\n",
    "    인덱스 = data_.columns\n",
    "    print(인덱스)\n",
    "\n",
    "    for i in 인덱스:\n",
    "        if len(data_[i]) == len(data_[i].value_counts()):\n",
    "            유일성만족리스트.append(i)\n",
    "\n",
    "    for i in range(len(유일성만족리스트)):\n",
    "        for j in range(i+1, len(유일성만족리스트)):\n",
    "            if 유일성만족리스트[i] in 유일성만족리스트[j]:\n",
    "                유일성만족리스트[j] = '!'\n",
    "                \n",
    "    print(유일성만족리스트)\n",
    "\n",
    "    return len(유일성만족리스트) - 유일성만족리스트.count('!')"
   ]
  },
  {
   "cell_type": "code",
   "execution_count": 392,
   "metadata": {
    "scrolled": true
   },
   "outputs": [
    {
     "name": "stdout",
     "output_type": "stream",
     "text": [
      "Index(['data[0]', 'data[1]', 'data[2]', 'data[3]', 'data[0] + data[1]',\n",
      "       'data[0] + data[2]', 'data[0] + data[3]', 'data[1] + data[2]',\n",
      "       'data[1] + data[3]', 'data[2] + data[3]', 'data[0] + data[1] + data[2]',\n",
      "       'data[0] + data[1] + data[3]', 'data[0] + data[2] + data[3]',\n",
      "       'data[1] + data[2] + data[3]', 'data[0] + data[1] + data[2] + data[3]'],\n",
      "      dtype='object')\n",
      "['data[0]', '!', '!', '!', 'data[1] + data[2]', '!', '!', '!', '!', '!']\n"
     ]
    },
    {
     "data": {
      "text/plain": [
       "2"
      ]
     },
     "execution_count": 392,
     "metadata": {},
     "output_type": "execute_result"
    }
   ],
   "source": [
    "l = [['100','ryan','music','2'],\n",
    "     ['200','apeach','math','2'],\n",
    "     ['300','tube','computer','3'],\n",
    "     ['400','con','computer','4'],\n",
    "     ['500','muzi','music','3'],\n",
    "     ['600','apeach','music','2']]\n",
    "\n",
    "solution(l)"
   ]
  },
  {
   "cell_type": "code",
   "execution_count": 394,
   "metadata": {},
   "outputs": [
    {
     "name": "stdout",
     "output_type": "stream",
     "text": [
      "['data[0]']\n",
      "['data[1]']\n",
      "['data[2]']\n",
      "['data[3]']\n",
      "['data[0]', 'data[1]']\n",
      "['data[0]', 'data[2]']\n",
      "['data[0]', 'data[3]']\n",
      "['data[1]', 'data[2]']\n",
      "['data[1]', 'data[3]']\n",
      "['data[2]', 'data[3]']\n",
      "['data[0]', 'data[1]', 'data[2]']\n",
      "['data[0]', 'data[1]', 'data[3]']\n",
      "['data[0]', 'data[2]', 'data[3]']\n",
      "['data[1]', 'data[2]', 'data[3]']\n",
      "['data[0]', 'data[1]', 'data[2]', 'data[3]']\n"
     ]
    },
    {
     "data": {
      "text/plain": [
       "{'data[0]'}"
      ]
     },
     "execution_count": 394,
     "metadata": {},
     "output_type": "execute_result"
    }
   ],
   "source": [
    "k = ['data[0]', 'data[1]', 'data[2]', 'data[3]', 'data[0] + data[1]',\n",
    "       'data[0] + data[2]', 'data[0] + data[3]', 'data[1] + data[2]',\n",
    "       'data[1] + data[3]', 'data[2] + data[3]', 'data[0] + data[1] + data[2]',\n",
    "       'data[0] + data[1] + data[3]', 'data[0] + data[2] + data[3]',\n",
    "       'data[1] + data[2] + data[3]', 'data[0] + data[1] + data[2] + data[3]']\n",
    "\n",
    "for i in k:\n",
    "    print(i.split(' + '))\n",
    "    \n",
    "    \n",
    "set(['data[0]']) & set(['data[0]', 'data[1]'])"
   ]
  },
  {
   "cell_type": "code",
   "execution_count": 408,
   "metadata": {},
   "outputs": [],
   "source": [
    "## 아래 코드로 하였을 때 18, 19, 20, 22, 25번이 문제 생김\n",
    "import pandas as pd\n",
    "from itertools import combinations\n",
    "\n",
    "def solution(l):\n",
    "\n",
    "    colname = range(len(l[0]))\n",
    "\n",
    "    data = pd.DataFrame(l)\n",
    "    data_ = pd.DataFrame()\n",
    "\n",
    "    유일성만족리스트 = []\n",
    "    모든이름의조합 = []\n",
    "\n",
    "    for 조합수 in range(1, len(colname)+1):\n",
    "        컬럼이름의조합 = combinations(colname, 조합수)\n",
    "        모든이름의조합.append(list(컬럼이름의조합))\n",
    "\n",
    "    for 이름조합 in 모든이름의조합:\n",
    "        for 컬럼명 in 이름조합:\n",
    "            #print(컬럼명)\n",
    "            if len(컬럼명) == 1:\n",
    "                data_[f'data[{컬럼명[0]}]'] = data[컬럼명[0]]\n",
    "            elif len(컬럼명) == 2:\n",
    "                data_[f'data[{컬럼명[0]}] + data[{컬럼명[1]}]'] = data[컬럼명[0]] + data[컬럼명[1]]\n",
    "            elif len(컬럼명) == 3:\n",
    "                data_[f'data[{컬럼명[0]}] + data[{컬럼명[1]}] + data[{컬럼명[2]}]'] = data[컬럼명[0]] + data[컬럼명[1]] + data[컬럼명[2]]\n",
    "            elif len(컬럼명) == 4:\n",
    "                data_[f'data[{컬럼명[0]}] + data[{컬럼명[1]}] + data[{컬럼명[2]}] + data[{컬럼명[3]}]'] = data[컬럼명[0]] + data[컬럼명[1]] + data[컬럼명[2]] + data[컬럼명[3]]\n",
    "            elif len(컬럼명) == 5:\n",
    "                data_[f'data[{컬럼명[0]}] + data[{컬럼명[1]}] + data[{컬럼명[2]}] + data[{컬럼명[3]}] + data[{컬럼명[4]}]'] = data[컬럼명[0]] + data[컬럼명[1]] + data[컬럼명[2]] + data[컬럼명[3]] + data[컬럼명[4]]\n",
    "            elif len(컬럼명) == 6:\n",
    "                data_[f'data[{컬럼명[0]}] + data[{컬럼명[1]}] + data[{컬럼명[2]}] + data[{컬럼명[3]}] + data[{컬럼명[4]}] + data[{컬럼명[5]}]'] = data[컬럼명[0]] + data[컬럼명[1]] + data[컬럼명[2]] + data[컬럼명[3]] + data[컬럼명[4]]  + data[컬럼명[5]]\n",
    "            elif len(컬럼명) == 7:\n",
    "                data_[f'data[{컬럼명[0]}] + data[{컬럼명[1]}] + data[{컬럼명[2]}] + data[{컬럼명[3]}] + data[{컬럼명[4]}] + data[{컬럼명[5]}] + data[{컬럼명[6]}]'] = data[컬럼명[0]] + data[컬럼명[1]] + data[컬럼명[2]] + data[컬럼명[3]] + data[컬럼명[4]] + data[컬럼명[5]] + data[컬럼명[6]]\n",
    "            elif len(컬럼명) == 8:\n",
    "                data_[f'data[{컬럼명[0]}] + data[{컬럼명[1]}] + data[{컬럼명[2]}] + data[{컬럼명[3]}] + data[{컬럼명[4]}] + data[{컬럼명[5]}] + data[{컬럼명[6]}] + data[{컬럼명[7]}]'] = data[컬럼명[0]] + data[컬럼명[1]] + data[컬럼명[2]] + data[컬럼명[3]] + data[컬럼명[4]] + data[컬럼명[5]] + data[컬럼명[6]] + data[컬럼명[7]]\n",
    "\n",
    "    인덱스 = data_.columns\n",
    "    print(인덱스)\n",
    "\n",
    "    for i in 인덱스:\n",
    "        if len(data_[i]) == len(data_[i].value_counts()):\n",
    "            유일성만족리스트.append(i)\n",
    "            \n",
    "    print(유일성만족리스트)\n",
    "\n",
    "    for i in range(len(유일성만족리스트)):\n",
    "        for j in range(i+1, len(유일성만족리스트)):\n",
    "            if all(요소 in 유일성만족리스트[j].split(' + ') for 요소 in 유일성만족리스트[i].split(' + ')):\n",
    "                유일성만족리스트[j] = '!'\n",
    "\n",
    "    return len(유일성만족리스트) - 유일성만족리스트.count('!')"
   ]
  },
  {
   "cell_type": "code",
   "execution_count": 409,
   "metadata": {
    "scrolled": true
   },
   "outputs": [
    {
     "name": "stdout",
     "output_type": "stream",
     "text": [
      "Index(['data[0]', 'data[1]', 'data[2]', 'data[3]', 'data[0] + data[1]',\n",
      "       'data[0] + data[2]', 'data[0] + data[3]', 'data[1] + data[2]',\n",
      "       'data[1] + data[3]', 'data[2] + data[3]', 'data[0] + data[1] + data[2]',\n",
      "       'data[0] + data[1] + data[3]', 'data[0] + data[2] + data[3]',\n",
      "       'data[1] + data[2] + data[3]', 'data[0] + data[1] + data[2] + data[3]'],\n",
      "      dtype='object')\n",
      "['data[0]', 'data[0] + data[1]', 'data[0] + data[2]', 'data[0] + data[3]', 'data[1] + data[2]', 'data[0] + data[1] + data[2]', 'data[0] + data[1] + data[3]', 'data[0] + data[2] + data[3]', 'data[1] + data[2] + data[3]', 'data[0] + data[1] + data[2] + data[3]']\n"
     ]
    },
    {
     "data": {
      "text/plain": [
       "2"
      ]
     },
     "execution_count": 409,
     "metadata": {},
     "output_type": "execute_result"
    }
   ],
   "source": [
    "l = [['100','ryan','music','2'],\n",
    "     ['200','apeach','math','2'],\n",
    "     ['300','tube','computer','3'],\n",
    "     ['400','con','computer','4'],\n",
    "     ['500','muzi','music','3'],\n",
    "     ['600','apeach','music','2']]\n",
    "\n",
    "solution(l)"
   ]
  },
  {
   "cell_type": "code",
   "execution_count": 401,
   "metadata": {
    "scrolled": true
   },
   "outputs": [
    {
     "data": {
      "text/plain": [
       "False"
      ]
     },
     "execution_count": 401,
     "metadata": {},
     "output_type": "execute_result"
    }
   ],
   "source": [
    "all(elem in 'data[1] + data[2] + data[3]'.split(' + ')  for elem in 'data[0] + data[3]'.split(' + '))"
   ]
  },
  {
   "cell_type": "code",
   "execution_count": 402,
   "metadata": {},
   "outputs": [
    {
     "data": {
      "text/plain": [
       "True"
      ]
     },
     "execution_count": 402,
     "metadata": {},
     "output_type": "execute_result"
    }
   ],
   "source": [
    "all(elem in 'data[0] + data[2] + data[3]'.split(' + ')  for elem in 'data[0] + data[3]'.split(' + '))"
   ]
  },
  {
   "cell_type": "code",
   "execution_count": 403,
   "metadata": {
    "scrolled": true
   },
   "outputs": [
    {
     "data": {
      "text/plain": [
       "[False, True]"
      ]
     },
     "execution_count": 403,
     "metadata": {},
     "output_type": "execute_result"
    }
   ],
   "source": [
    "[elem in 'data[1] + data[2] + data[3]'.split(' + ')  for elem in 'data[0] + data[3]'.split(' + ')]"
   ]
  },
  {
   "cell_type": "code",
   "execution_count": null,
   "metadata": {},
   "outputs": [],
   "source": [
    "## 아래 코드로 하였을 때 18, 19, 20, 22, 25번이 문제 생김\n",
    "import pandas as pd\n",
    "from itertools import combinations\n",
    "\n",
    "def solution(l):\n",
    "\n",
    "    colname = range(len(l[0]))\n",
    "\n",
    "    data = pd.DataFrame(l)\n",
    "    data_ = pd.DataFrame()\n",
    "\n",
    "    유일성만족리스트 = []\n",
    "    모든이름의조합 = []\n",
    "\n",
    "    for 조합수 in range(1, len(colname)+1):\n",
    "        컬럼이름의조합 = combinations(colname, 조합수)\n",
    "        모든이름의조합.append(list(컬럼이름의조합))\n",
    "\n",
    "    for 이름조합 in 모든이름의조합:\n",
    "        for 컬럼명 in 이름조합:\n",
    "            #print(컬럼명)\n",
    "            if len(컬럼명) == 1:\n",
    "                data_[f'data[{컬럼명[0]}]'] = data[컬럼명[0]]\n",
    "            elif len(컬럼명) == 2:\n",
    "                data_[f'data[{컬럼명[0]}] + data[{컬럼명[1]}]'] = data[컬럼명[0]] + data[컬럼명[1]]\n",
    "            elif len(컬럼명) == 3:\n",
    "                data_[f'data[{컬럼명[0]}] + data[{컬럼명[1]}] + data[{컬럼명[2]}]'] = data[컬럼명[0]] + data[컬럼명[1]] + data[컬럼명[2]]\n",
    "            elif len(컬럼명) == 4:\n",
    "                data_[f'data[{컬럼명[0]}] + data[{컬럼명[1]}] + data[{컬럼명[2]}] + data[{컬럼명[3]}]'] = data[컬럼명[0]] + data[컬럼명[1]] + data[컬럼명[2]] + data[컬럼명[3]]\n",
    "            elif len(컬럼명) == 5:\n",
    "                data_[f'data[{컬럼명[0]}] + data[{컬럼명[1]}] + data[{컬럼명[2]}] + data[{컬럼명[3]}] + data[{컬럼명[4]}]'] = data[컬럼명[0]] + data[컬럼명[1]] + data[컬럼명[2]] + data[컬럼명[3]] + data[컬럼명[4]]\n",
    "            elif len(컬럼명) == 6:\n",
    "                data_[f'data[{컬럼명[0]}] + data[{컬럼명[1]}] + data[{컬럼명[2]}] + data[{컬럼명[3]}] + data[{컬럼명[4]}] + data[{컬럼명[5]}]'] = data[컬럼명[0]] + data[컬럼명[1]] + data[컬럼명[2]] + data[컬럼명[3]] + data[컬럼명[4]]  + data[컬럼명[5]]\n",
    "            elif len(컬럼명) == 7:\n",
    "                data_[f'data[{컬럼명[0]}] + data[{컬럼명[1]}] + data[{컬럼명[2]}] + data[{컬럼명[3]}] + data[{컬럼명[4]}] + data[{컬럼명[5]}] + data[{컬럼명[6]}]'] = data[컬럼명[0]] + data[컬럼명[1]] + data[컬럼명[2]] + data[컬럼명[3]] + data[컬럼명[4]] + data[컬럼명[5]] + data[컬럼명[6]]\n",
    "            elif len(컬럼명) == 8:\n",
    "                data_[f'data[{컬럼명[0]}] + data[{컬럼명[1]}] + data[{컬럼명[2]}] + data[{컬럼명[3]}] + data[{컬럼명[4]}] + data[{컬럼명[5]}] + data[{컬럼명[6]}] + data[{컬럼명[7]}]'] = data[컬럼명[0]] + data[컬럼명[1]] + data[컬럼명[2]] + data[컬럼명[3]] + data[컬럼명[4]] + data[컬럼명[5]] + data[컬럼명[6]] + data[컬럼명[7]]\n",
    "\n",
    "    인덱스 = data_.columns\n",
    "\n",
    "    for i in 인덱스:\n",
    "        if len(data_[i]) == len(data_[i].value_counts()):\n",
    "            유일성만족리스트.append(i)\n",
    "\n",
    "    ## 수정된 코드\n",
    "    for i in range(len(유일성만족리스트)):\n",
    "        for j in range(i+1, len(유일성만족리스트)):\n",
    "            if all(요소 in 유일성만족리스트[j].split(' + ') for 요소 in 유일성만족리스트[i].split(' + ')):\n",
    "                유일성만족리스트[j] = '!'\n",
    "\n",
    "    return len(유일성만족리스트) - 유일성만족리스트.count('!')"
   ]
  },
  {
   "cell_type": "code",
   "execution_count": 420,
   "metadata": {},
   "outputs": [
    {
     "data": {
      "text/plain": [
       "False"
      ]
     },
     "execution_count": 420,
     "metadata": {},
     "output_type": "execute_result"
    }
   ],
   "source": [
    "all(요소 in 'data[1] + data[2]'.split(' + ')  for 요소 in 'data[0] + data[3]'.split(' + '))"
   ]
  },
  {
   "cell_type": "code",
   "execution_count": 421,
   "metadata": {
    "scrolled": false
   },
   "outputs": [
    {
     "data": {
      "text/plain": [
       "True"
      ]
     },
     "execution_count": 421,
     "metadata": {},
     "output_type": "execute_result"
    }
   ],
   "source": [
    "all(요소 in 'data[0] + data[3] + data[5]'.split(' + ')  for 요소 in 'data[0] + data[5]'.split(' + '))"
   ]
  },
  {
   "cell_type": "code",
   "execution_count": 422,
   "metadata": {
    "scrolled": true
   },
   "outputs": [
    {
     "data": {
      "text/plain": [
       "[True, True]"
      ]
     },
     "execution_count": 422,
     "metadata": {},
     "output_type": "execute_result"
    }
   ],
   "source": [
    "[요소 in 'data[0] + data[3] + data[5]'.split(' + ')  for 요소 in 'data[0] + data[5]'.split(' + ')]"
   ]
  },
  {
   "cell_type": "code",
   "execution_count": null,
   "metadata": {},
   "outputs": [],
   "source": [
    "#기존코드\n",
    "if 유일성만족리스트[i] in 유일성만족리스트[j]:\n",
    "    유일성만족리스트[j] = '!'"
   ]
  },
  {
   "cell_type": "code",
   "execution_count": 423,
   "metadata": {},
   "outputs": [
    {
     "data": {
      "text/plain": [
       "False"
      ]
     },
     "execution_count": 423,
     "metadata": {},
     "output_type": "execute_result"
    }
   ],
   "source": [
    "'data[0] + data[5]' in 'data[0] + data[3] + data[5]'"
   ]
  },
  {
   "cell_type": "markdown",
   "metadata": {},
   "source": [
    "## 12번 카카오 2019 공채 문제 4번"
   ]
  },
  {
   "cell_type": "code",
   "execution_count": 425,
   "metadata": {},
   "outputs": [
    {
     "data": {
      "text/plain": [
       "deque(['a', 'b', 'c', 'd', 'e'])"
      ]
     },
     "execution_count": 425,
     "metadata": {},
     "output_type": "execute_result"
    }
   ],
   "source": [
    "from collections import deque\n",
    "\n",
    "deq = deque('abcde')\n",
    "deq"
   ]
  },
  {
   "cell_type": "code",
   "execution_count": 426,
   "metadata": {},
   "outputs": [],
   "source": [
    "deq.rotate(1)"
   ]
  },
  {
   "cell_type": "code",
   "execution_count": 427,
   "metadata": {},
   "outputs": [
    {
     "data": {
      "text/plain": [
       "deque(['e', 'a', 'b', 'c', 'd'])"
      ]
     },
     "execution_count": 427,
     "metadata": {},
     "output_type": "execute_result"
    }
   ],
   "source": [
    "deq"
   ]
  },
  {
   "cell_type": "code",
   "execution_count": 430,
   "metadata": {},
   "outputs": [
    {
     "data": {
      "text/plain": [
       "deque(['b', 'c', 'd', 'e', 'a'])"
      ]
     },
     "execution_count": 430,
     "metadata": {},
     "output_type": "execute_result"
    }
   ],
   "source": [
    "deq.rotate(1)\n",
    "deq"
   ]
  },
  {
   "cell_type": "code",
   "execution_count": null,
   "metadata": {},
   "outputs": [],
   "source": [
    "[3, 3, 5]\n",
    "[3, 3, 5, 2, 2, 4, 1, 1, 3, 0, 0, 2, 0, 0, 1...]"
   ]
  },
  {
   "cell_type": "code",
   "execution_count": 431,
   "metadata": {
    "scrolled": true
   },
   "outputs": [
    {
     "name": "stdout",
     "output_type": "stream",
     "text": [
      "[ True  True  True False False  True  True  True False False  True  True\n",
      "  True False False  True  True  True False False  True  True  True False\n",
      " False  True  True  True False False  True  True False False False  True\n",
      "  True False False False  True  True False False False  True  True False\n",
      " False False  True  True False False False]\n"
     ]
    }
   ],
   "source": [
    "import numpy as np\n",
    "\n",
    "def solution(food_times, k):\n",
    "    if sum(food_times) <= k:\n",
    "        return -1\n",
    "    \n",
    "    길이 = len(food_times)\n",
    "    \n",
    "    table = food_times.copy()\n",
    "    \n",
    "    food_times = np.array(food_times)\n",
    "    table = np.array(table)\n",
    "    \n",
    "    for i in range(k):\n",
    "        food_times -= 1\n",
    "        table = np.r_[table, food_times]\n",
    "        \n",
    "    table_bool = table > 0\n",
    "    print(table_bool)\n",
    "\n",
    "solution([1006, 96, 6, 0, 0], 10)"
   ]
  },
  {
   "cell_type": "code",
   "execution_count": null,
   "metadata": {},
   "outputs": [],
   "source": [
    "[30, 10, 4]\n",
    "[29, 9, 3]\n",
    "[28, 8, 2]\n",
    "[27, 7, 1]\n",
    "[26, 6, 0]\n",
    "[25, 5, 0]"
   ]
  },
  {
   "cell_type": "code",
   "execution_count": null,
   "metadata": {},
   "outputs": [],
   "source": [
    "[30, 10, 4]\n",
    "[26, 6, 0]\n",
    "[20, 0, 0]"
   ]
  },
  {
   "cell_type": "code",
   "execution_count": null,
   "metadata": {},
   "outputs": [],
   "source": [
    "## 우리는 아래와 같은 방법으로 풀이 예정 k = 30 / 길이 4\n",
    "#k = 30 / 길이 4 / 나머지 2\n",
    "[30, 10,  4,  1]\n",
    "[23,  3, -3,  0]\n",
    "[23,  3,  0,  0]\n",
    "\n",
    "#k = 5(기존 나머지에 마이너스 값을 누적) / 길이 2 / 나머지 1\n",
    "[23,  3,  0,  0]\n",
    "[21,  1,  0,  0]\n",
    "\n",
    "#k = 1(기존 나머지에 마이너스 값을 누적) / 길이 2 \n",
    "[21,  1,  0,  0]"
   ]
  },
  {
   "cell_type": "code",
   "execution_count": 440,
   "metadata": {},
   "outputs": [
    {
     "name": "stdout",
     "output_type": "stream",
     "text": [
      "100\n",
      "food_times : [10, 1, 30, 1000], 마이너스값 : 25, 나머지 : 0\n",
      "0 10\n",
      "1 1\n",
      "2 30\n",
      "3 1000\n",
      "39\n",
      "food_times : [0, 0, 5, 975], 마이너스값 : 19, 나머지 : 1\n",
      "0 0\n",
      "1 0\n",
      "2 5\n",
      "3 975\n",
      "15\n",
      "food_times : [0, 0, 0, 956], 마이너스값 : 15, 나머지 : 0\n",
      "0 0\n",
      "1 0\n",
      "2 0\n",
      "3 956\n"
     ]
    },
    {
     "data": {
      "text/plain": [
       "4"
      ]
     },
     "execution_count": 440,
     "metadata": {},
     "output_type": "execute_result"
    }
   ],
   "source": [
    "def solution(food_times, k):\n",
    "    answer = 0\n",
    "    \n",
    "    while k >= 0:\n",
    "    \n",
    "        if sum(food_times) <= k:\n",
    "            return -1\n",
    "\n",
    "        영외에남은테이블 = len(food_times) - food_times.count(0)\n",
    "        회전수 = k // 영외에남은테이블\n",
    "        회전한나머지수 = k % 영외에남은테이블\n",
    "\n",
    "        print(k)\n",
    "        print(f'food_times : {food_times}, 마이너스값 : {회전수}, 나머지 : {회전한나머지수}')\n",
    "\n",
    "        for 인덱스, 값 in enumerate(food_times):\n",
    "            print(인덱스, 값)\n",
    "            if food_times[인덱스] != 0:\n",
    "                food_times[인덱스] = 값 - 회전수\n",
    "                if food_times[인덱스] < 0:\n",
    "                    회전한나머지수 -= food_times[인덱스]\n",
    "                    food_times[인덱스] = 0\n",
    "\n",
    "        k = 회전한나머지수\n",
    "\n",
    "        영외에남은테이블 = len(food_times) - food_times.count(0)\n",
    "        if k + 1 <= 영외에남은테이블:\n",
    "            for i in food_times:\n",
    "                answer += 1\n",
    "                if i != 0: k -= 1\n",
    "                if k == -1: return answer\n",
    "\n",
    "solution([10, 1, 30, 1000], 100)"
   ]
  },
  {
   "cell_type": "markdown",
   "metadata": {},
   "source": [
    "## 13번 카카오 2020 공채 문제 1번"
   ]
  },
  {
   "cell_type": "code",
   "execution_count": 289,
   "metadata": {},
   "outputs": [
    {
     "name": "stdout",
     "output_type": "stream",
     "text": [
      "[a-z]{1}\n",
      "['a', 'a', 'b', 'b', 'a', 'c', 'c', 'c']\n",
      "[a-z]{2}\n",
      "['aa', 'bb', 'ac', 'cc']\n",
      "[a-z]{3}\n",
      "['aab', 'bac']\n",
      "[a-z]{4}\n",
      "['aabb', 'accc']\n"
     ]
    }
   ],
   "source": [
    "import re\n",
    "\n",
    "s = 'aabbaccc'\n",
    "for i in range(1, len(s)//2+1):\n",
    "    패턴 = f'[a-z]{{{i}}}'\n",
    "    print(패턴)\n",
    "    패턴 = re.compile(패턴)\n",
    "    print(패턴.findall(s))"
   ]
  },
  {
   "cell_type": "code",
   "execution_count": 294,
   "metadata": {},
   "outputs": [
    {
     "name": "stdout",
     "output_type": "stream",
     "text": [
      "[a-z]{1}\n",
      "['a', 'a', 'b', 'b', 'a', 'c', 'c', 'c']\n",
      "2a2b3c\n",
      "[a-z]{2}\n",
      "['aa', 'bb', 'ac', 'cc']\n",
      "\n",
      "[a-z]{3}\n",
      "['aab', 'bac']\n",
      "\n",
      "[a-z]{4}\n",
      "['aabb', 'accc']\n",
      "\n"
     ]
    }
   ],
   "source": [
    "import re\n",
    "\n",
    "s = 'aabbaccc'\n",
    "for i in range(1, len(s)//2+1):\n",
    "    패턴 = f'[a-z]{{{i}}}'\n",
    "    print(패턴)\n",
    "    패턴 = re.compile(패턴)\n",
    "    print(패턴.findall(s))\n",
    "    압축문자열 = ''\n",
    "    잘려진문자열 = 패턴.findall(s)\n",
    "    count = 1\n",
    "    for i in range(len(잘려진문자열)-1):\n",
    "        if 잘려진문자열[i] == 잘려진문자열[i+1]:\n",
    "            count += 1\n",
    "        else:\n",
    "            if count > 1:\n",
    "                압축문자열 += f'{count}{잘려진문자열[i]}'\n",
    "            count = 1\n",
    "        if i == len(잘려진문자열)-2:\n",
    "            if count > 1:\n",
    "                압축문자열 += f'{count}{잘려진문자열[i]}'\n",
    "            else:\n",
    "                pass\n",
    "                \n",
    "    print(압축문자열)"
   ]
  },
  {
   "cell_type": "code",
   "execution_count": 295,
   "metadata": {},
   "outputs": [
    {
     "name": "stdout",
     "output_type": "stream",
     "text": [
      "[a-z]{1}\n",
      "['a', 'b', 'a', 'b', 'c', 'd', 'c', 'd', 'a', 'b', 'a', 'b', 'c', 'd', 'c', 'd']\n",
      "\n",
      "[a-z]{2}\n",
      "['ab', 'ab', 'cd', 'cd', 'ab', 'ab', 'cd', 'cd']\n",
      "2ab2cd2ab2cd\n",
      "[a-z]{3}\n",
      "['aba', 'bcd', 'cda', 'bab', 'cdc']\n",
      "\n",
      "[a-z]{4}\n",
      "['abab', 'cdcd', 'abab', 'cdcd']\n",
      "\n",
      "[a-z]{5}\n",
      "['ababc', 'dcdab', 'abcdc']\n",
      "\n",
      "[a-z]{6}\n",
      "['ababcd', 'cdabab']\n",
      "\n",
      "[a-z]{7}\n",
      "['ababcdc', 'dababcd']\n",
      "\n",
      "[a-z]{8}\n",
      "['ababcdcd', 'ababcdcd']\n",
      "2ababcdcd\n"
     ]
    }
   ],
   "source": [
    "import re\n",
    "\n",
    "s = 'ababcdcdababcdcd'\n",
    "for i in range(1, len(s)//2+1):\n",
    "    패턴 = f'[a-z]{{{i}}}'\n",
    "    print(패턴)\n",
    "    패턴 = re.compile(패턴)\n",
    "    print(패턴.findall(s))\n",
    "    압축문자열 = ''\n",
    "    잘려진문자열 = 패턴.findall(s)\n",
    "    count = 1\n",
    "    for i in range(len(잘려진문자열)-1):\n",
    "        if 잘려진문자열[i] == 잘려진문자열[i+1]:\n",
    "            count += 1\n",
    "        else:\n",
    "            if count > 1:\n",
    "                압축문자열 += f'{count}{잘려진문자열[i]}'\n",
    "            count = 1\n",
    "        if i == len(잘려진문자열)-2:\n",
    "            if count > 1:\n",
    "                압축문자열 += f'{count}{잘려진문자열[i]}'\n",
    "            else:\n",
    "                pass\n",
    "                \n",
    "    print(압축문자열)"
   ]
  },
  {
   "cell_type": "code",
   "execution_count": 308,
   "metadata": {},
   "outputs": [
    {
     "name": "stdout",
     "output_type": "stream",
     "text": [
      "[a-z]{1}\n",
      "['a', 'b', 'c', 'a', 'b', 'c', 'a', 'b', 'c', 'a', 'b', 'c', 'd', 'e', 'd', 'e', 'd', 'e', 'd', 'e', 'd', 'e', 'd', 'e']\n",
      "abcabcabcabcdedededededd\n",
      "[a-z]{2}\n",
      "['ab', 'ca', 'bc', 'ab', 'ca', 'bc', 'de', 'de', 'de', 'de', 'de', 'de']\n",
      "abcabcabcabc6de\n",
      "[a-z]{3}\n",
      "['abc', 'abc', 'abc', 'abc', 'ded', 'ede', 'ded', 'ede']\n",
      "4abcdededededded\n",
      "[a-z]{4}\n",
      "['abca', 'bcab', 'cabc', 'dede', 'dede', 'dede']\n",
      "abcabcabcabc3dede\n",
      "[a-z]{5}\n",
      "['abcab', 'cabca', 'bcded', 'edede']\n",
      "abcabcabcabcdedbcdeddede\n",
      "[a-z]{6}\n",
      "['abcabc', 'abcabc', 'dedede', 'dedede']\n",
      "2abcabc2dedede\n",
      "[a-z]{7}\n",
      "['abcabca', 'bcabcde', 'dededed']\n",
      "abcabcabcabcdebcabcdeede\n",
      "[a-z]{8}\n",
      "['abcabcab', 'cabcdede', 'dededede']\n",
      "abcabcabcabcdedecabcdede\n",
      "[a-z]{9}\n",
      "['abcabcabc', 'abcdedede']\n",
      "abcabcabcabcabcabcdedede\n",
      "[a-z]{10}\n",
      "['abcabcabca', 'bcdededede']\n",
      "abcabcabcaabcabcabcadede\n",
      "[a-z]{11}\n",
      "['abcabcabcab', 'cdedededede']\n",
      "abcabcabcababcabcabcabde\n",
      "[a-z]{12}\n",
      "['abcabcabcabc', 'dededededede']\n",
      "abcabcabcabcabcabcabcabc\n"
     ]
    },
    {
     "data": {
      "text/plain": [
       "14"
      ]
     },
     "execution_count": 308,
     "metadata": {},
     "output_type": "execute_result"
    }
   ],
   "source": [
    "import re\n",
    "\n",
    "s = 'abcabcabcabcdededededede'\n",
    "문자열길이 = []\n",
    "\n",
    "for 슬라이스개수 in range(1, len(s)//2+1):\n",
    "    패턴 = f'[a-z]{{{슬라이스개수}}}'\n",
    "    print(패턴)\n",
    "    패턴 = re.compile(패턴)\n",
    "    print(패턴.findall(s))\n",
    "    압축문자열 = ''\n",
    "    잘려진문자열 = 패턴.findall(s)\n",
    "    count = 1\n",
    "    for i in range(len(잘려진문자열)-1):\n",
    "        if 잘려진문자열[i] == 잘려진문자열[i+1]:\n",
    "            count += 1\n",
    "        else:\n",
    "            if count > 1:\n",
    "                압축문자열 += f'{count}{잘려진문자열[i]}'\n",
    "                count = 1\n",
    "            else:\n",
    "                압축문자열 += f'{잘려진문자열[i]}'\n",
    "        if i == len(잘려진문자열)-2:\n",
    "            if count > 1:\n",
    "                if 잘려진문자열[i] == 잘려진문자열[i+1]:\n",
    "                    압축문자열 += f'{count}{잘려진문자열[i]}'\n",
    "            else:\n",
    "                압축문자열 += f'{잘려진문자열[i]}'\n",
    "            \n",
    "    if len(s) % 슬라이스개수 != 0:\n",
    "        압축문자열 += s[-(len(s) % 슬라이스개수):]\n",
    "                \n",
    "    print(압축문자열)\n",
    "    \n",
    "    문자열길이.append(len(압축문자열))\n",
    "\n",
    "min(문자열길이)"
   ]
  },
  {
   "cell_type": "code",
   "execution_count": null,
   "metadata": {},
   "outputs": [],
   "source": [
    "import re\n",
    "\n",
    "s = 'abcabcabcabcdededededede'\n",
    "문자열길이 = []\n",
    "\n",
    "for 슬라이스개수 in range(1, len(s)//2+1):\n",
    "    패턴 = f'[a-z]{{{슬라이스개수}}}'\n",
    "    print(패턴)\n",
    "    패턴 = re.compile(패턴)\n",
    "    print(패턴.findall(s))\n",
    "    압축문자열 = ''\n",
    "    잘려진문자열 = 패턴.findall(s)\n",
    "    count = 1\n",
    "    for i in range(len(잘려진문자열)-1):\n",
    "        if 잘려진문자열[i] == 잘려진문자열[i+1]:\n",
    "            count += 1\n",
    "        else:\n",
    "            if count > 1:\n",
    "                압축문자열 += f'{count}{잘려진문자열[i]}'\n",
    "                count = 1\n",
    "            else:\n",
    "                압축문자열 += f'{잘려진문자열[i]}'\n",
    "        if i == len(잘려진문자열)-2:\n",
    "            if count > 1:\n",
    "                if 잘려진문자열[i] == 잘려진문자열[i+1]:\n",
    "                    압축문자열 += f'{count}{잘려진문자열[i]}'\n",
    "            else:\n",
    "                압축문자열 += f'{잘려진문자열[i]}'\n",
    "            \n",
    "    if len(s) % 슬라이스개수 != 0:\n",
    "        압축문자열 += s[-(len(s) % 슬라이스개수):]\n",
    "                \n",
    "    print(압축문자열)\n",
    "    \n",
    "    문자열길이.append(len(압축문자열))\n",
    "\n",
    "min(문자열길이)"
   ]
  },
  {
   "cell_type": "code",
   "execution_count": 309,
   "metadata": {},
   "outputs": [
    {
     "data": {
      "text/plain": [
       "1"
      ]
     },
     "execution_count": 309,
     "metadata": {},
     "output_type": "execute_result"
    }
   ],
   "source": [
    "## 문자열의 길이가 한개인 경우 애러가 났음!!!!!\n",
    "\n",
    "import re\n",
    "\n",
    "def solution(s):\n",
    "    if len(s) == 1:\n",
    "        return 1\n",
    "    문자열길이 = []\n",
    "\n",
    "    for 표현식 in range(1, len(s)//2+1):\n",
    "        ss = f'[a-z]{{{표현식}}}'\n",
    "        패턴 = re.compile(ss)\n",
    "        압축문자열 = ''\n",
    "        잘라진문자열 = 패턴.findall(s)\n",
    "        count = 1\n",
    "        for i in range(len(잘라진문자열)-1):\n",
    "            if 잘라진문자열[i] == 잘라진문자열[i+1]:\n",
    "                count += 1\n",
    "            else:\n",
    "                if count > 1:\n",
    "                    압축문자열 += f'{count}{잘라진문자열[i]}'\n",
    "                    count = 1\n",
    "                else:\n",
    "                    압축문자열 += f'{잘라진문자열[i]}'\n",
    "            if i == len(잘라진문자열)-2:\n",
    "                if count > 1:\n",
    "                    if 잘라진문자열[i] == 잘라진문자열[i+1]:\n",
    "                        압축문자열 += f'{count}{잘라진문자열[i]}'\n",
    "                else:\n",
    "                    압축문자열 += f'{잘라진문자열[i+1]}'\n",
    "\n",
    "        if len(s) % 표현식 != 0:\n",
    "            압축문자열 += s[-(len(s) % 표현식):]\n",
    "        문자열길이.append(len(압축문자열))\n",
    "    return min(문자열길이)\n",
    "\n",
    "\n",
    "solution('a')"
   ]
  },
  {
   "cell_type": "markdown",
   "metadata": {},
   "source": [
    "## 14번 카카오 2020 공채 문제 4번"
   ]
  },
  {
   "cell_type": "code",
   "execution_count": 444,
   "metadata": {},
   "outputs": [
    {
     "name": "stdout",
     "output_type": "stream",
     "text": [
      "[]\n",
      "[]\n",
      "[]\n",
      "['frozen']\n",
      "[]\n",
      "[]\n"
     ]
    }
   ],
   "source": [
    "import re\n",
    "\n",
    "words = [\"frodo\", \"front\", \"frost\", \"frozen\", \"frame\", \"kakao\"]\n",
    "queries = [\"fro??\", \"????o\", \"fr???\", \"fro???\", \"pro?\"]\n",
    "\n",
    "q = queries[3].replace('?', '.')\n",
    "\n",
    "패턴 = re.compile(q)\n",
    "\n",
    "for s in words:\n",
    "    매칭패턴 = 패턴.findall(s)\n",
    "    print(매칭패턴)"
   ]
  },
  {
   "cell_type": "code",
   "execution_count": 451,
   "metadata": {},
   "outputs": [
    {
     "data": {
      "text/plain": [
       "[3, 2, 4, 1, 0]"
      ]
     },
     "execution_count": 451,
     "metadata": {},
     "output_type": "execute_result"
    }
   ],
   "source": [
    "import re\n",
    "\n",
    "words = [\"frodo\", \"front\", \"frost\", \"frozen\", \"frame\", \"kakao\"]\n",
    "queries = [\"fro??\", \"????o\", \"fr???\", \"fro???\", \"pro?\"]\n",
    "\n",
    "answer = []\n",
    "\n",
    "for q in queries:\n",
    "    q = q.replace('?', '.')\n",
    "    패턴 = re.compile(q)\n",
    "    매칭카운트 = 0\n",
    "\n",
    "    for s in words:\n",
    "        매칭패턴 = 패턴.findall(s)\n",
    "        if 매칭패턴 and len(s) == len(q):\n",
    "            매칭카운트 += 1\n",
    "    answer.append(매칭카운트)\n",
    "        \n",
    "answer"
   ]
  },
  {
   "cell_type": "code",
   "execution_count": 452,
   "metadata": {},
   "outputs": [
    {
     "data": {
      "text/plain": [
       "[3, 2, 4, 1, 0]"
      ]
     },
     "execution_count": 452,
     "metadata": {},
     "output_type": "execute_result"
    }
   ],
   "source": [
    "import re\n",
    "\n",
    "def solution(words, queries):\n",
    "    answer = []\n",
    "    for q in queries:\n",
    "        q = q.replace('?', '.')\n",
    "        패턴 = re.compile(q)\n",
    "        매칭카운트 = 0\n",
    "        for s in words:\n",
    "            매칭패턴 = 패턴.findall(s)\n",
    "            if 매칭패턴 and len(s) == len(q):\n",
    "                매칭카운트 += 1\n",
    "        answer.append(매칭카운트)\n",
    "\n",
    "    return answer\n",
    "\n",
    "words = [\"frodo\", \"front\", \"frost\", \"frozen\", \"frame\", \"kakao\"]\n",
    "queries = [\"fro??\", \"????o\", \"fr???\", \"fro???\", \"pro?\"]\n",
    "\n",
    "solution(words, queries)"
   ]
  },
  {
   "cell_type": "code",
   "execution_count": null,
   "metadata": {},
   "outputs": [],
   "source": [
    "## 두번째 풀이\n",
    "'frodo'\n",
    "{'f':다음object} count = 1\n",
    "{'r':다음object} count = 1\n",
    "{'o':다음object} count = 1\n",
    "{'d':다음object} count = 1\n",
    "{'o':다음object} count = 1"
   ]
  },
  {
   "cell_type": "code",
   "execution_count": null,
   "metadata": {},
   "outputs": [],
   "source": [
    "'frodo', 'front'\n",
    "{'f':다음object} count = 2\n",
    "{'r':다음object} count = 2\n",
    "{'o':다음object} count = 2\n",
    "{'d':다음object} count = 1, {'n':다음object} count = 1\n",
    "{'o':다음object} count = 1, {'t':다음object} count = 1"
   ]
  },
  {
   "cell_type": "code",
   "execution_count": 463,
   "metadata": {},
   "outputs": [
    {
     "name": "stdout",
     "output_type": "stream",
     "text": [
      "[[{}], [{}, {}], [{}, {}, {}], [{}, {}, {}, {}], [{}, {}, {}, {}, {}], [{}, {}, {}, {}, {}, {}], [{}, {}, {}, {}, {}, {}, {}], [{}, {}, {}, {}, {}, {}, {}, {}], [{}, {}, {}, {}, {}, {}, {}, {}, {}], [{}, {}, {}, {}, {}, {}, {}, {}, {}, {}]]\n"
     ]
    },
    {
     "data": {
      "text/plain": [
       "[]"
      ]
     },
     "execution_count": 463,
     "metadata": {},
     "output_type": "execute_result"
    }
   ],
   "source": [
    "def solution(words):\n",
    "    트라이 = [[dict() for j in range(i+1)] for i in range(10)]\n",
    "    answer = []\n",
    "    \n",
    "    print(트라이)\n",
    "    \n",
    "    return answer\n",
    "\n",
    "solution(['frodo', 'front'])\n",
    "\n",
    "\n",
    "# [{'f':2}, {'r':2}, {'o':2}, {'d':1, 'n':1}, {'o':1, 't':1}]"
   ]
  },
  {
   "cell_type": "code",
   "execution_count": 472,
   "metadata": {
    "scrolled": false
   },
   "outputs": [
    {
     "name": "stdout",
     "output_type": "stream",
     "text": [
      "[[{}], [{}, {}], [{}, {}, {}], [{}, {}, {}, {}], [{}, {}, {}, {}, {}], [{}, {}, {}, {}, {}, {}], [{}, {}, {}, {}, {}, {}, {}], [{}, {}, {}, {}, {}, {}, {}, {}], [{}, {}, {}, {}, {}, {}, {}, {}, {}], [{}, {}, {}, {}, {}, {}, {}, {}, {}, {}]]\n",
      "------\n",
      "[{'f': 2, 'p': 1}, {'r': 3}, {'o': 3}, {'d': 2, 'n': 1}, {'o': 2, 't': 1}]\n"
     ]
    },
    {
     "data": {
      "text/plain": [
       "[]"
      ]
     },
     "execution_count": 472,
     "metadata": {},
     "output_type": "execute_result"
    }
   ],
   "source": [
    "def solution(words):\n",
    "    트라이 = [[dict() for j in range(i+1)] for i in range(10)]\n",
    "    answer = []\n",
    "    \n",
    "    print(트라이)\n",
    "    \n",
    "    for 각각의문자열 in words:\n",
    "        for index, 개별문자 in enumerate(각각의문자열):\n",
    "            if 개별문자 in 트라이[len(각각의문자열)-1][index]:\n",
    "                트라이[len(각각의문자열)-1][index][개별문자] += 1\n",
    "            else:\n",
    "                트라이[len(각각의문자열)-1][index][개별문자] = 1\n",
    "                \n",
    "    print('------')\n",
    "    print(트라이[4])\n",
    "    \n",
    "    return answer\n",
    "\n",
    "solution(['frodo', 'front', 'prodo'], ['pro??'])\n",
    "\n",
    "\n",
    "# [{'f':2}, {'r':2}, {'o':2}, {'d':1, 'n':1}, {'o':1, 't':1}]"
   ]
  },
  {
   "cell_type": "code",
   "execution_count": null,
   "metadata": {},
   "outputs": [],
   "source": [
    "# Tree로 해결하는 방법(대부분의 검색 효율성은 Tree 문제)\n",
    "# 단어 문제이기 때문에 트라이라는 알고리즘 선택"
   ]
  },
  {
   "cell_type": "code",
   "execution_count": null,
   "metadata": {},
   "outputs": [],
   "source": [
    "# 하나의 레벨(층) 단위의 dict 생성\n",
    "{\n",
    "    'f' : {\n",
    "     '연결노드' : 다음노드,\n",
    "     '개수' : 0\n",
    "    }\n",
    "}"
   ]
  },
  {
   "cell_type": "code",
   "execution_count": null,
   "metadata": {},
   "outputs": [],
   "source": [
    "# 하나의 레벨(층) 단위의 dict 생성\n",
    "# 레벨1 노드\n",
    "{\n",
    "    'f' : {\n",
    "     '연결노드' : 다음노드,\n",
    "     '개수' : 2,\n",
    "     '현재레벨' : 1 #문자열의 개수\n",
    "    }\n",
    "}\n",
    "\n",
    "#레벨2 'f' 연결 노드\n",
    "{\n",
    "    'r' : {\n",
    "     '연결노드' : 다음노드,\n",
    "     '개수' : 2,\n",
    "     '현재레벨' : 2\n",
    "    }\n",
    "}\n",
    "\n",
    "#레벨3 'r' 연결 노드\n",
    "{\n",
    "    'o' : {\n",
    "     '연결노드' : 다음노드,\n",
    "     '개수' : 2,\n",
    "     '현재레벨' : 3\n",
    "    }\n",
    "}\n",
    "\n",
    "#레벨4 'o' 연결 노드\n",
    "{\n",
    "    'd' : {\n",
    "     '연결노드' : 다음노드,\n",
    "     '개수' : 1,\n",
    "     '현재레벨' : 4\n",
    "    },\n",
    "    'n' : {\n",
    "     '연결노드' : 다음노드,\n",
    "     '개수' : 1,\n",
    "     '현재레벨' : 4\n",
    "    }\n",
    "}\n",
    "\n",
    "#레벨5 'd' 연결 노드\n",
    "{\n",
    "    'o' : {\n",
    "     '연결노드' : 다음노드,\n",
    "     '개수' : 1,\n",
    "     '현재레벨' : 5\n",
    "    }\n",
    "}\n",
    "\n",
    "#레벨5 'n' 연결 노드\n",
    "{\n",
    "    't' : {\n",
    "     '연결노드' : 다음노드,\n",
    "     '개수' : 1,\n",
    "     '현재레벨' : 5\n",
    "    }\n",
    "}"
   ]
  },
  {
   "cell_type": "code",
   "execution_count": 477,
   "metadata": {},
   "outputs": [
    {
     "data": {
      "text/plain": [
       "<__main__.Node at 0x2a567742d90>"
      ]
     },
     "execution_count": 477,
     "metadata": {},
     "output_type": "execute_result"
    }
   ],
   "source": [
    "class Node(object):\n",
    "    def __init__(self):\n",
    "        self.레벨단위연결노드 = {}\n",
    "        \n",
    "    def insert_data(self, 문자열):\n",
    "        for 레벨, 문자 in enumerate(문자열, 1):\n",
    "            if 문자 not in self.레벨단위연결노드:\n",
    "                self.레벨단위연결노드[문자] = {\n",
    "                     '연결노드' : Node(),\n",
    "                     '개수' : 1,\n",
    "                     '현재레벨' : 레벨\n",
    "                }\n",
    "            else:\n",
    "                self.레벨단위연결노드[문자]['개수'] += 1\n",
    "            self = self.레벨단위연결노드[문자]['연결노드']\n",
    "            \n",
    "트라이인스턴스 = Node()\n",
    "트라이인스턴스.insert_data('frodo')\n",
    "\n",
    "트라이인스턴스.레벨단위연결노드\n",
    "트라이인스턴스.레벨단위연결노드['f']\n",
    "트라이인스턴스.레벨단위연결노드['f']['연결노드']\n",
    "트라이인스턴스.레벨단위연결노드['f']['연결노드'].레벨단위연결노드\n",
    "트라이인스턴스.레벨단위연결노드['f']['연결노드'].레벨단위연결노드['r']['연결노드']"
   ]
  },
  {
   "cell_type": "code",
   "execution_count": 479,
   "metadata": {},
   "outputs": [
    {
     "name": "stdout",
     "output_type": "stream",
     "text": [
      "{'f': {'연결노드': <__main__.Node object at 0x000002A567C1C730>, '개수': 1, '현재레벨': 1}}\n",
      "{'r': {'연결노드': <__main__.Node object at 0x000002A567D6BA30>, '개수': 1, '현재레벨': 2}}\n",
      "{'o': {'연결노드': <__main__.Node object at 0x000002A569BDB580>, '개수': 1, '현재레벨': 3}}\n",
      "{'d': {'연결노드': <__main__.Node object at 0x000002A569BDB520>, '개수': 1, '현재레벨': 4}}\n",
      "{'o': {'연결노드': <__main__.Node object at 0x000002A567579D90>, '개수': 1, '현재레벨': 5}}\n",
      "{'f': {'연결노드': <__main__.Node object at 0x000002A567C1C730>, '개수': 2, '현재레벨': 1}}\n",
      "{'r': {'연결노드': <__main__.Node object at 0x000002A567D6BA30>, '개수': 2, '현재레벨': 2}}\n",
      "{'o': {'연결노드': <__main__.Node object at 0x000002A569BDB580>, '개수': 2, '현재레벨': 3}}\n",
      "{'d': {'연결노드': <__main__.Node object at 0x000002A569BDB520>, '개수': 1, '현재레벨': 4}, 'n': {'연결노드': <__main__.Node object at 0x000002A567579520>, '개수': 1, '현재레벨': 4}}\n",
      "{'t': {'연결노드': <__main__.Node object at 0x000002A567579760>, '개수': 1, '현재레벨': 5}}\n"
     ]
    }
   ],
   "source": [
    "class Node(object):\n",
    "    def __init__(self):\n",
    "        self.레벨단위연결노드 = {}\n",
    "        \n",
    "    def insert_data(self, 문자열):\n",
    "        for 레벨, 문자 in enumerate(문자열, 1):\n",
    "            if 문자 not in self.레벨단위연결노드:\n",
    "                self.레벨단위연결노드[문자] = {\n",
    "                     '연결노드' : Node(),\n",
    "                     '개수' : 1,\n",
    "                     '현재레벨' : 레벨\n",
    "                }\n",
    "            else:\n",
    "                self.레벨단위연결노드[문자]['개수'] += 1\n",
    "            print(self.레벨단위연결노드)\n",
    "            self = self.레벨단위연결노드[문자]['연결노드']\n",
    "            \n",
    "트라이인스턴스 = Node()\n",
    "트라이인스턴스.insert_data('frodo')\n",
    "트라이인스턴스.insert_data('front')"
   ]
  },
  {
   "cell_type": "code",
   "execution_count": 485,
   "metadata": {},
   "outputs": [
    {
     "data": {
      "text/plain": [
       "[3, 2, 4, 1, 0, 5]"
      ]
     },
     "execution_count": 485,
     "metadata": {},
     "output_type": "execute_result"
    }
   ],
   "source": [
    "class Node(object):\n",
    "    def __init__(self):\n",
    "        self.레벨단위연결노드 = {}\n",
    "        self.전체숫자합 = 0\n",
    "        \n",
    "    def insert_data(self, 문자열):\n",
    "        for 레벨, 문자 in enumerate(문자열, 1):\n",
    "            if 문자 not in self.레벨단위연결노드:\n",
    "                self.레벨단위연결노드[문자] = {\n",
    "                     '연결노드' : Node(),\n",
    "                     '개수' : 1,\n",
    "                     '현재레벨' : 레벨\n",
    "                }\n",
    "                self.전체숫자합 += 1\n",
    "            else:\n",
    "                self.레벨단위연결노드[문자]['개수'] += 1\n",
    "                self.전체숫자합 += 1\n",
    "            self = self.레벨단위연결노드[문자]['연결노드']\n",
    "            \n",
    "    def get_count(self, 문자열):\n",
    "        문자열길이 = len(문자열)\n",
    "        문자열물음표카운트 = 문자열.count('?')\n",
    "        if 문자열길이 == 문자열물음표카운트:\n",
    "            return self.전체숫자합\n",
    "        for 문자 in 문자열:\n",
    "            if 문자 == '?':\n",
    "                return temp\n",
    "            elif 문자 not in self.레벨단위연결노드:\n",
    "                return 0\n",
    "            temp = self.레벨단위연결노드[문자]['개수']\n",
    "            self = self.레벨단위연결노드[문자]['연결노드']\n",
    "        return self.레벨단위연결노드[문자]['개수']\n",
    "            \n",
    "def solution(words, queries):\n",
    "    answer = []\n",
    "    \n",
    "    트라이 = [Node() for i in range(10000)]\n",
    "    트라이역순 = [Node() for i in range(10000)]\n",
    "    \n",
    "    for word in words:\n",
    "        트라이[len(word)-1].insert_data(word)\n",
    "        트라이역순[len(word)-1].insert_data(word[::-1])\n",
    "    \n",
    "    for q in queries:\n",
    "        if q[0] != '?':\n",
    "            answer.append(트라이[len(q)-1].get_count(q))\n",
    "        else:\n",
    "            answer.append(트라이역순[len(q)-1].get_count(q[::-1]))\n",
    "    \n",
    "    return answer\n",
    "\n",
    "solution([\"frodo\", \"front\", \"frost\", \"frozen\", \"frame\", \"kakao\"], \n",
    "         [\"fro??\", \"????o\", \"fr???\", \"fro???\", \"pro?\", \"?????\"])"
   ]
  },
  {
   "cell_type": "code",
   "execution_count": 490,
   "metadata": {},
   "outputs": [
    {
     "data": {
      "text/plain": [
       "[3, 2, 4, 1, 0, 5]"
      ]
     },
     "execution_count": 490,
     "metadata": {},
     "output_type": "execute_result"
    }
   ],
   "source": [
    "'''\n",
    "필요없는 변수 삭제 : 레벨\n",
    "필요없는 함수 삭제 : enumerate\n",
    "변수명줄이기\n",
    "전체숫자합\n",
    "테스트 1 〉\t통과 (2472.44ms, 300MB)\n",
    "테스트 2 〉\t통과 (4367.39ms, 572MB)\n",
    "테스트 3 〉\t실패 (시간 초과)\n",
    "테스트 4 〉\t통과 (3368.21ms, 665MB)\n",
    "테스트 5 〉\t통과 (7125.19ms, 1.22GB)\n",
    "\n",
    "통과기준\n",
    "테스트 1 〉\t통과 (1914.18ms, 300MB)\n",
    "테스트 2 〉\t통과 (3968.34ms, 572MB)\n",
    "테스트 3 〉\t통과 (3968.64ms, 534MB)\n",
    "테스트 4 〉\t통과 (3623.64ms, 665MB)\n",
    "테스트 5 〉\t통과 (7930.89ms, 1.22GB)\n",
    "'''\n",
    "class Node(object):\n",
    "    def __init__(self):\n",
    "        self.레벨단위연결노드 = {}\n",
    "        \n",
    "    def insert_data(self, 문자열):\n",
    "        for 문자 in 문자열:\n",
    "            if 문자 not in self.레벨단위연결노드:\n",
    "                self.레벨단위연결노드[문자] = {\n",
    "                     '연결노드' : Node(),\n",
    "                     '개수' : 1,\n",
    "                }\n",
    "            else:\n",
    "                self.레벨단위연결노드[문자]['개수'] += 1\n",
    "            self = self.레벨단위연결노드[문자]['연결노드']\n",
    "            \n",
    "    def get_count(self, 문자열):\n",
    "        for 문자 in 문자열:\n",
    "            if 문자 == '?':\n",
    "                return temp\n",
    "            elif 문자 not in self.레벨단위연결노드:\n",
    "                return 0\n",
    "            temp = self.레벨단위연결노드[문자]['개수']\n",
    "            self = self.레벨단위연결노드[문자]['연결노드']\n",
    "        return self.레벨단위연결노드[문자]['개수']\n",
    "            \n",
    "def solution(words, queries):\n",
    "    answer = []\n",
    "    \n",
    "    트라이 = [Node() for i in range(10001)]\n",
    "    트라이역순 = [Node() for i in range(10001)]\n",
    "    \n",
    "    for word in words:\n",
    "        트라이[len(word)].insert_data('!' + word)\n",
    "        트라이역순[len(word)].insert_data('!' + word[::-1])\n",
    "    \n",
    "    for q in queries:\n",
    "        if q[0] != '?':\n",
    "            answer.append(트라이[len(q)].get_count('!' + q))\n",
    "        else:\n",
    "            answer.append(트라이역순[len(q)].get_count('!' + q[::-1]))\n",
    "    \n",
    "    return answer\n",
    "\n",
    "solution([\"frodo\", \"front\", \"frost\", \"frozen\", \"frame\", \"kakao\"], \n",
    "         [\"fro??\", \"????o\", \"fr???\", \"fro???\", \"pro?\", \"?????\"])"
   ]
  },
  {
   "cell_type": "code",
   "execution_count": 491,
   "metadata": {},
   "outputs": [
    {
     "ename": "MemoryError",
     "evalue": "",
     "output_type": "error",
     "traceback": [
      "\u001b[1;31m---------------------------------------------------------------------------\u001b[0m",
      "\u001b[1;31mMemoryError\u001b[0m                               Traceback (most recent call last)",
      "\u001b[1;32m<ipython-input-491-beed621dd444>\u001b[0m in \u001b[0;36m<module>\u001b[1;34m\u001b[0m\n\u001b[1;32m----> 1\u001b[1;33m \u001b[0ml\u001b[0m \u001b[1;33m=\u001b[0m \u001b[1;33m[\u001b[0m\u001b[1;33m[\u001b[0m\u001b[0mdict\u001b[0m\u001b[1;33m(\u001b[0m\u001b[1;33m)\u001b[0m \u001b[1;32mfor\u001b[0m \u001b[0mj\u001b[0m \u001b[1;32min\u001b[0m \u001b[0mrange\u001b[0m\u001b[1;33m(\u001b[0m\u001b[0mi\u001b[0m\u001b[1;33m+\u001b[0m\u001b[1;36m1\u001b[0m\u001b[1;33m)\u001b[0m\u001b[1;33m]\u001b[0m \u001b[1;32mfor\u001b[0m \u001b[0mi\u001b[0m \u001b[1;32min\u001b[0m \u001b[0mrange\u001b[0m\u001b[1;33m(\u001b[0m\u001b[1;36m100000\u001b[0m\u001b[1;33m)\u001b[0m\u001b[1;33m]\u001b[0m\u001b[1;33m\u001b[0m\u001b[1;33m\u001b[0m\u001b[0m\n\u001b[0m",
      "\u001b[1;32m<ipython-input-491-beed621dd444>\u001b[0m in \u001b[0;36m<listcomp>\u001b[1;34m(.0)\u001b[0m\n\u001b[1;32m----> 1\u001b[1;33m \u001b[0ml\u001b[0m \u001b[1;33m=\u001b[0m \u001b[1;33m[\u001b[0m\u001b[1;33m[\u001b[0m\u001b[0mdict\u001b[0m\u001b[1;33m(\u001b[0m\u001b[1;33m)\u001b[0m \u001b[1;32mfor\u001b[0m \u001b[0mj\u001b[0m \u001b[1;32min\u001b[0m \u001b[0mrange\u001b[0m\u001b[1;33m(\u001b[0m\u001b[0mi\u001b[0m\u001b[1;33m+\u001b[0m\u001b[1;36m1\u001b[0m\u001b[1;33m)\u001b[0m\u001b[1;33m]\u001b[0m \u001b[1;32mfor\u001b[0m \u001b[0mi\u001b[0m \u001b[1;32min\u001b[0m \u001b[0mrange\u001b[0m\u001b[1;33m(\u001b[0m\u001b[1;36m100000\u001b[0m\u001b[1;33m)\u001b[0m\u001b[1;33m]\u001b[0m\u001b[1;33m\u001b[0m\u001b[1;33m\u001b[0m\u001b[0m\n\u001b[0m",
      "\u001b[1;32m<ipython-input-491-beed621dd444>\u001b[0m in \u001b[0;36m<listcomp>\u001b[1;34m(.0)\u001b[0m\n\u001b[1;32m----> 1\u001b[1;33m \u001b[0ml\u001b[0m \u001b[1;33m=\u001b[0m \u001b[1;33m[\u001b[0m\u001b[1;33m[\u001b[0m\u001b[0mdict\u001b[0m\u001b[1;33m(\u001b[0m\u001b[1;33m)\u001b[0m \u001b[1;32mfor\u001b[0m \u001b[0mj\u001b[0m \u001b[1;32min\u001b[0m \u001b[0mrange\u001b[0m\u001b[1;33m(\u001b[0m\u001b[0mi\u001b[0m\u001b[1;33m+\u001b[0m\u001b[1;36m1\u001b[0m\u001b[1;33m)\u001b[0m\u001b[1;33m]\u001b[0m \u001b[1;32mfor\u001b[0m \u001b[0mi\u001b[0m \u001b[1;32min\u001b[0m \u001b[0mrange\u001b[0m\u001b[1;33m(\u001b[0m\u001b[1;36m100000\u001b[0m\u001b[1;33m)\u001b[0m\u001b[1;33m]\u001b[0m\u001b[1;33m\u001b[0m\u001b[1;33m\u001b[0m\u001b[0m\n\u001b[0m",
      "\u001b[1;31mMemoryError\u001b[0m: "
     ]
    }
   ],
   "source": [
    "l = [[dict() for j in range(i+1)] for i in range(100000)]"
   ]
  },
  {
   "cell_type": "code",
   "execution_count": null,
   "metadata": {},
   "outputs": [],
   "source": [
    "# 이렇게 해도 메모리 효율이 좋아지지 않습니다.\n",
    "def solution(words, queries):\n",
    "    answer = []\n",
    "    \n",
    "    트라이 = [None for i in range(10000)]\n",
    "    트라이역순 = [None for i in range(10000)]\n",
    "    \n",
    "    for word in words:\n",
    "        if 트라이[len(word)-1] == None:\n",
    "            트라이[len(word)-1] = Node()\n",
    "            트라이역순[len(word)-1] = Node()\n",
    "            트라이[len(word)-1].insert_data(word)\n",
    "            트라이역순[len(word)-1].insert_data(word[::-1])\n",
    "        else:\n",
    "            트라이[len(word)-1].insert_data(word)\n",
    "            트라이역순[len(word)-1].insert_data(word[::-1])"
   ]
  },
  {
   "cell_type": "markdown",
   "metadata": {},
   "source": [
    "## 14번 카카오 2021 공채 문제 1번"
   ]
  },
  {
   "cell_type": "code",
   "execution_count": 495,
   "metadata": {},
   "outputs": [
    {
     "data": {
      "text/plain": [
       "'hello worl'"
      ]
     },
     "execution_count": 495,
     "metadata": {},
     "output_type": "execute_result"
    }
   ],
   "source": [
    "'hello world'[:-1]"
   ]
  },
  {
   "cell_type": "code",
   "execution_count": 494,
   "metadata": {},
   "outputs": [
    {
     "data": {
      "text/plain": [
       "'.bat.y.abcdefghijklm'"
      ]
     },
     "execution_count": 494,
     "metadata": {},
     "output_type": "execute_result"
    }
   ],
   "source": [
    "import re\n",
    "\n",
    "new_id = \"...!@BaT#*..y.abcdefghijklm\"\n",
    "# 1단계 new_id의 모든 대문자를 대응되는 소문자로 치환합니다.\n",
    "new_id = new_id.lower()\n",
    "\n",
    "# 2단계 new_id에서 알파벳 소문자, 숫자, 빼기(-), 밑줄(_), 마침표(.)를 제외한 모든 문자를 제거합니다.\n",
    "패턴 = r'[a-z0-9\\-\\_\\.]+'\n",
    "new_id = ''.join(re.findall(패턴, new_id))\n",
    "\n",
    "# 3단계 new_id에서 마침표(.)가 2번 이상 연속된 부분을 하나의 마침표(.)로 치환합니다.\n",
    "new_id = re.sub('[\\.]+', '.', new_id)\n",
    "\n",
    "# 4단계 new_id에서 마침표(.)가 처음이나 끝에 위치한다면 제거합니다.\n",
    "if new_id[0] == '.':\n",
    "    new_id = new_id[1:]\n",
    "if new_id[-1] == '.':\n",
    "    new_id = new_id[:-1]\n",
    "    \n",
    "# 5단계 new_id가 빈 문자열이라면, new_id에 \"a\"를 대입합니다.\n",
    "if new_id == '':\n",
    "    new_id = 'a'\n",
    "    \n",
    "# 6단계 new_id의 길이가 16자 이상이면, new_id의 첫 15개의 문자를 제외한 나머지 문자들을 모두 제거합니다.\n",
    "#      만약 제거 후 마침표(.)가 new_id의 끝에 위치한다면 끝에 위치한 마침표(.) 문자를 제거합니다.\n",
    "if len(new_id) >= 16:\n",
    "    new_id = new_id[:15]\n",
    "    if new_id[-1] == '.':\n",
    "        new_id = new_id[:-1]\n",
    "\n",
    "# 7단계 new_id의 길이가 2자 이하라면, new_id의 마지막 문자를 new_id의 길이가 3이 될 때까지 반복해서 끝에 붙입니다.\n",
    "for len(new_id) <= 2:\n",
    "    for i in range(3):\n",
    "        new_id += new_id[-1]\n",
    "        if len(new_id) == 3:\n",
    "            break"
   ]
  },
  {
   "cell_type": "code",
   "execution_count": 500,
   "metadata": {},
   "outputs": [
    {
     "data": {
      "text/plain": [
       "'aaa'"
      ]
     },
     "execution_count": 500,
     "metadata": {},
     "output_type": "execute_result"
    }
   ],
   "source": [
    "import re\n",
    "\n",
    "def solution(new_id):\n",
    "    # 5단계 + 7단계\n",
    "    if new_id == '':\n",
    "        return 'aaa'\n",
    "\n",
    "    # 1단계 new_id의 모든 대문자를 대응되는 소문자로 치환합니다.\n",
    "    new_id = new_id.lower()\n",
    "\n",
    "    # 2단계 new_id에서 알파벳 소문자, 숫자, 빼기(-), 밑줄(_), 마침표(.)를 제외한 모든 문자를 제거합니다.\n",
    "    패턴 = r'[a-z0-9\\-\\_\\.]+'\n",
    "    new_id = ''.join(re.findall(패턴, new_id))\n",
    "\n",
    "    # 3단계 new_id에서 마침표(.)가 2번 이상 연속된 부분을 하나의 마침표(.)로 치환합니다.\n",
    "    new_id = re.sub('[\\.]+', '.', new_id)\n",
    "\n",
    "    if new_id == '.':\n",
    "        return 'aaa'\n",
    "    # 4단계 new_id에서 마침표(.)가 처음이나 끝에 위치한다면 제거합니다.\n",
    "    if new_id[0] == '.':\n",
    "        new_id = new_id[1:]\n",
    "    if new_id[-1] == '.':\n",
    "        new_id = new_id[:-1]\n",
    "\n",
    "    # 5단계 new_id가 빈 문자열이라면, new_id에 \"a\"를 대입합니다.\n",
    "    if new_id == '':\n",
    "        new_id = 'a'\n",
    "\n",
    "    # 6단계 new_id의 길이가 16자 이상이면, new_id의 첫 15개의 문자를 제외한 나머지 문자들을 모두 제거합니다.\n",
    "    #      만약 제거 후 마침표(.)가 new_id의 끝에 위치한다면 끝에 위치한 마침표(.) 문자를 제거합니다.\n",
    "    if len(new_id) >= 16:\n",
    "        new_id = new_id[:15]\n",
    "        if new_id[-1] == '.':\n",
    "            new_id = new_id[:-1]\n",
    "\n",
    "    # 7단계 new_id의 길이가 2자 이하라면, new_id의 마지막 문자를 new_id의 길이가 3이 될 때까지 반복해서 끝에 붙입니다.\n",
    "    if len(new_id) <= 2:\n",
    "        for i in range(3):\n",
    "            new_id += new_id[-1]\n",
    "            if len(new_id) == 3:\n",
    "                break\n",
    "                \n",
    "    return new_id\n",
    "\n",
    "solution('.............................')"
   ]
  },
  {
   "cell_type": "markdown",
   "metadata": {},
   "source": [
    "## 15번 카카오 2021 공채 문제 2번"
   ]
  },
  {
   "cell_type": "code",
   "execution_count": 507,
   "metadata": {},
   "outputs": [
    {
     "data": {
      "text/plain": [
       "[('A', 'B', 'C'),\n",
       " ('A', 'B', 'F'),\n",
       " ('A', 'B', 'G'),\n",
       " ('A', 'B', 'K'),\n",
       " ('A', 'C', 'F'),\n",
       " ('A', 'C', 'G'),\n",
       " ('A', 'C', 'K'),\n",
       " ('A', 'F', 'G'),\n",
       " ('A', 'F', 'K'),\n",
       " ('A', 'G', 'K'),\n",
       " ('B', 'C', 'F'),\n",
       " ('B', 'C', 'G'),\n",
       " ('B', 'C', 'K'),\n",
       " ('B', 'F', 'G'),\n",
       " ('B', 'F', 'K'),\n",
       " ('B', 'G', 'K'),\n",
       " ('C', 'F', 'G'),\n",
       " ('C', 'F', 'K'),\n",
       " ('C', 'G', 'K'),\n",
       " ('F', 'G', 'K')]"
      ]
     },
     "execution_count": 507,
     "metadata": {},
     "output_type": "execute_result"
    }
   ],
   "source": [
    "import itertools\n",
    "\n",
    "test = [\"KABCFG\", \"AC\", \"CDE\", \"ACDE\", \"BCFG\", \"ACDEH\"]\n",
    "test = [sorted(i) for i in test]\n",
    "test\n",
    "\n",
    "전제조합 = []\n",
    "\n",
    "list(itertools.combinations(test[0], 1))\n",
    "list(itertools.combinations(test[0], 2))\n",
    "list(itertools.combinations(test[0], 3))"
   ]
  },
  {
   "cell_type": "code",
   "execution_count": 511,
   "metadata": {},
   "outputs": [],
   "source": [
    "for _ in range(2, 2):\n",
    "    print('d')"
   ]
  },
  {
   "cell_type": "code",
   "execution_count": 514,
   "metadata": {},
   "outputs": [
    {
     "name": "stdout",
     "output_type": "stream",
     "text": [
      "[['A', 'B', 'C', 'F', 'G', 'K'], ['A', 'C'], ['C', 'D', 'E'], ['A', 'C', 'D', 'E'], ['B', 'C', 'F', 'G'], ['A', 'C', 'D', 'E', 'H']]\n"
     ]
    },
    {
     "data": {
      "text/plain": [
       "[('A',),\n",
       " ('B',),\n",
       " ('C',),\n",
       " ('F',),\n",
       " ('G',),\n",
       " ('K',),\n",
       " ('A', 'B'),\n",
       " ('A', 'C'),\n",
       " ('A', 'F'),\n",
       " ('A', 'G'),\n",
       " ('A', 'K'),\n",
       " ('B', 'C'),\n",
       " ('B', 'F'),\n",
       " ('B', 'G'),\n",
       " ('B', 'K'),\n",
       " ('C', 'F'),\n",
       " ('C', 'G'),\n",
       " ('C', 'K'),\n",
       " ('F', 'G'),\n",
       " ('F', 'K'),\n",
       " ('G', 'K'),\n",
       " ('A', 'B', 'C'),\n",
       " ('A', 'B', 'F'),\n",
       " ('A', 'B', 'G'),\n",
       " ('A', 'B', 'K'),\n",
       " ('A', 'C', 'F'),\n",
       " ('A', 'C', 'G'),\n",
       " ('A', 'C', 'K'),\n",
       " ('A', 'F', 'G'),\n",
       " ('A', 'F', 'K'),\n",
       " ('A', 'G', 'K'),\n",
       " ('B', 'C', 'F'),\n",
       " ('B', 'C', 'G'),\n",
       " ('B', 'C', 'K'),\n",
       " ('B', 'F', 'G'),\n",
       " ('B', 'F', 'K'),\n",
       " ('B', 'G', 'K'),\n",
       " ('C', 'F', 'G'),\n",
       " ('C', 'F', 'K'),\n",
       " ('C', 'G', 'K'),\n",
       " ('F', 'G', 'K'),\n",
       " ('A', 'B', 'C', 'F'),\n",
       " ('A', 'B', 'C', 'G'),\n",
       " ('A', 'B', 'C', 'K'),\n",
       " ('A', 'B', 'F', 'G'),\n",
       " ('A', 'B', 'F', 'K'),\n",
       " ('A', 'B', 'G', 'K'),\n",
       " ('A', 'C', 'F', 'G'),\n",
       " ('A', 'C', 'F', 'K'),\n",
       " ('A', 'C', 'G', 'K'),\n",
       " ('A', 'F', 'G', 'K'),\n",
       " ('B', 'C', 'F', 'G'),\n",
       " ('B', 'C', 'F', 'K'),\n",
       " ('B', 'C', 'G', 'K'),\n",
       " ('B', 'F', 'G', 'K'),\n",
       " ('C', 'F', 'G', 'K'),\n",
       " ('A', 'B', 'C', 'F', 'G'),\n",
       " ('A', 'B', 'C', 'F', 'K'),\n",
       " ('A', 'B', 'C', 'G', 'K'),\n",
       " ('A', 'B', 'F', 'G', 'K'),\n",
       " ('A', 'C', 'F', 'G', 'K'),\n",
       " ('B', 'C', 'F', 'G', 'K'),\n",
       " ('A', 'B', 'C', 'F', 'G', 'K'),\n",
       " ('A',),\n",
       " ('C',),\n",
       " ('A', 'C'),\n",
       " ('C',),\n",
       " ('D',),\n",
       " ('E',),\n",
       " ('C', 'D'),\n",
       " ('C', 'E'),\n",
       " ('D', 'E'),\n",
       " ('C', 'D', 'E'),\n",
       " ('A',),\n",
       " ('C',),\n",
       " ('D',),\n",
       " ('E',),\n",
       " ('A', 'C'),\n",
       " ('A', 'D'),\n",
       " ('A', 'E'),\n",
       " ('C', 'D'),\n",
       " ('C', 'E'),\n",
       " ('D', 'E'),\n",
       " ('A', 'C', 'D'),\n",
       " ('A', 'C', 'E'),\n",
       " ('A', 'D', 'E'),\n",
       " ('C', 'D', 'E'),\n",
       " ('A', 'C', 'D', 'E'),\n",
       " ('B',),\n",
       " ('C',),\n",
       " ('F',),\n",
       " ('G',),\n",
       " ('B', 'C'),\n",
       " ('B', 'F'),\n",
       " ('B', 'G'),\n",
       " ('C', 'F'),\n",
       " ('C', 'G'),\n",
       " ('F', 'G'),\n",
       " ('B', 'C', 'F'),\n",
       " ('B', 'C', 'G'),\n",
       " ('B', 'F', 'G'),\n",
       " ('C', 'F', 'G'),\n",
       " ('B', 'C', 'F', 'G'),\n",
       " ('A',),\n",
       " ('C',),\n",
       " ('D',),\n",
       " ('E',),\n",
       " ('H',),\n",
       " ('A', 'C'),\n",
       " ('A', 'D'),\n",
       " ('A', 'E'),\n",
       " ('A', 'H'),\n",
       " ('C', 'D'),\n",
       " ('C', 'E'),\n",
       " ('C', 'H'),\n",
       " ('D', 'E'),\n",
       " ('D', 'H'),\n",
       " ('E', 'H'),\n",
       " ('A', 'C', 'D'),\n",
       " ('A', 'C', 'E'),\n",
       " ('A', 'C', 'H'),\n",
       " ('A', 'D', 'E'),\n",
       " ('A', 'D', 'H'),\n",
       " ('A', 'E', 'H'),\n",
       " ('C', 'D', 'E'),\n",
       " ('C', 'D', 'H'),\n",
       " ('C', 'E', 'H'),\n",
       " ('D', 'E', 'H'),\n",
       " ('A', 'C', 'D', 'E'),\n",
       " ('A', 'C', 'D', 'H'),\n",
       " ('A', 'C', 'E', 'H'),\n",
       " ('A', 'D', 'E', 'H'),\n",
       " ('C', 'D', 'E', 'H'),\n",
       " ('A', 'C', 'D', 'E', 'H')]"
      ]
     },
     "execution_count": 514,
     "metadata": {},
     "output_type": "execute_result"
    }
   ],
   "source": [
    "import itertools\n",
    "\n",
    "test = [\"KABCFG\", \"AC\", \"CDE\", \"ACDE\", \"BCFG\", \"ACDEH\"]\n",
    "test = [sorted(i) for i in test]\n",
    "전체조합 = []\n",
    "print(test)\n",
    "\n",
    "for i in test:\n",
    "    for j in range(1, len(i) + 1):\n",
    "        전체조합.extend(list(itertools.combinations(i, j)))\n",
    "\n",
    "전체조합"
   ]
  },
  {
   "cell_type": "code",
   "execution_count": 520,
   "metadata": {},
   "outputs": [
    {
     "name": "stdout",
     "output_type": "stream",
     "text": [
      "[['A', 'B', 'C', 'F', 'G', 'K'], ['A', 'C'], ['C', 'D', 'E'], ['A', 'C', 'D', 'E'], ['B', 'C', 'F', 'G'], ['A', 'C', 'D', 'E', 'H']]\n"
     ]
    },
    {
     "data": {
      "text/plain": [
       "dict_values([4, 2, 6, 2, 2, 1, 1, 4, 1, 1, 1, 2, 2, 2, 1, 2, 2, 1, 2, 1, 1, 1, 1, 1, 1, 1, 1, 1, 1, 1, 1, 2, 2, 1, 2, 1, 1, 2, 1, 1, 1, 1, 1, 1, 1, 1, 1, 1, 1, 1, 1, 2, 1, 1, 1, 1, 1, 1, 1, 1, 1, 1, 1, 3, 3, 3, 3, 3, 3, 2, 2, 2, 2, 2, 2, 1, 1, 1, 1, 1, 1, 1, 1, 1, 1, 1, 1, 1, 1, 1, 1])"
      ]
     },
     "execution_count": 520,
     "metadata": {},
     "output_type": "execute_result"
    }
   ],
   "source": [
    "import itertools\n",
    "from collections import Counter\n",
    "\n",
    "test = [\"KABCFG\", \"AC\", \"CDE\", \"ACDE\", \"BCFG\", \"ACDEH\"]\n",
    "test = [sorted(i) for i in test]\n",
    "전체조합 = []\n",
    "print(test)\n",
    "\n",
    "for i in test:\n",
    "    for j in range(1, len(i) + 1):\n",
    "        전체조합.extend(list(itertools.combinations(i, j)))\n",
    "\n",
    "Counter(전체조합)\n",
    "Counter(전체조합)[('A',)]\n",
    "Counter(전체조합).values()"
   ]
  },
  {
   "cell_type": "code",
   "execution_count": null,
   "metadata": {},
   "outputs": [],
   "source": [
    "import itertools\n",
    "from collections import Counter\n",
    "\n",
    "def solution(orders, course):\n",
    "    answer = []\n",
    "    orders = [sorted(i) for i in orders]\n",
    "    \n",
    "    for 조합수 in course:\n",
    "        전체조합 = []\n",
    "        for 메뉴 in orders:\n",
    "            전체조합.extend(list(itertools.combinations(메뉴, 조합수)))\n",
    "            \n",
    "        전체조합 = Counter(전체조합)\n",
    "        if len(전체조합) != 0 and max(전체조합.values()) != 1:\n",
    "            for 개별조합 in 전체조합:\n",
    "                if 전체조합[개별조합] == max(전체조합.values()):\n",
    "                    answer.append(''.join(개별조합))\n",
    "    return sorted(answer)\n",
    "\n",
    "solution([\"KABCFG\", \"AC\", \"CDE\", \"ACDE\", \"BCFG\", \"ACDEH\"], [2,3,4])"
   ]
  }
 ],
 "metadata": {
  "kernelspec": {
   "display_name": "Python 3",
   "language": "python",
   "name": "python3"
  },
  "language_info": {
   "codemirror_mode": {
    "name": "ipython",
    "version": 3
   },
   "file_extension": ".py",
   "mimetype": "text/x-python",
   "name": "python",
   "nbconvert_exporter": "python",
   "pygments_lexer": "ipython3",
   "version": "3.8.5"
  }
 },
 "nbformat": 4,
 "nbformat_minor": 4
}
